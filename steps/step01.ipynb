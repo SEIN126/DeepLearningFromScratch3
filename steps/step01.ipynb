{
  "nbformat": 4,
  "nbformat_minor": 0,
  "metadata": {
    "colab": {
      "name": "Untitled8.ipynb",
      "provenance": [],
      "collapsed_sections": []
    },
    "kernelspec": {
      "name": "python3",
      "display_name": "Python 3"
    },
    "language_info": {
      "name": "python"
    }
  },
  "cells": [
    {
      "cell_type": "markdown",
      "metadata": {
        "id": "ETCKyTQJLJWV"
      },
      "source": [
        "**1.2 Variable 클래스 구현**"
      ]
    },
    {
      "cell_type": "code",
      "metadata": {
        "id": "xPJbI_fOLIC7"
      },
      "source": [
        "class Variable:\n",
        "    def __init__(self, data):\n",
        "        self.data = data"
      ],
      "execution_count": 2,
      "outputs": []
    },
    {
      "cell_type": "code",
      "metadata": {
        "colab": {
          "base_uri": "https://localhost:8080/"
        },
        "id": "vpUknuRSLI-s",
        "outputId": "2bb61939-809e-4489-b9eb-d28303e28283"
      },
      "source": [
        "import numpy as np\n",
        "\n",
        "data = np.array(1.0)\n",
        "x = Variable(data)\n",
        "print(x.data)\n"
      ],
      "execution_count": 3,
      "outputs": [
        {
          "output_type": "stream",
          "name": "stdout",
          "text": [
            "1.0\n"
          ]
        }
      ]
    },
    {
      "cell_type": "code",
      "metadata": {
        "colab": {
          "base_uri": "https://localhost:8080/"
        },
        "id": "NxhXINOILVqs",
        "outputId": "ba04341c-6fff-40f7-b192-b16d9dc85235"
      },
      "source": [
        "x.data = np.array(2.0)\n",
        "print(x.data)"
      ],
      "execution_count": 4,
      "outputs": [
        {
          "output_type": "stream",
          "name": "stdout",
          "text": [
            "2.0\n"
          ]
        }
      ]
    },
    {
      "cell_type": "markdown",
      "metadata": {
        "id": "smpnfdxzLdBH"
      },
      "source": [
        "**1.3 [보충] numpy 다차원 배열(np.ndarray)**"
      ]
    },
    {
      "cell_type": "code",
      "metadata": {
        "colab": {
          "base_uri": "https://localhost:8080/"
        },
        "id": "iiiFsi_WLhXL",
        "outputId": "ba9d2974-8913-47cc-a45c-6cf750b922ac"
      },
      "source": [
        "import numpy as np\n",
        "x = np.array(1)\n",
        "# ndim : number of dimensions\n",
        "print(x.ndim) # x : scalar => 0"
      ],
      "execution_count": 5,
      "outputs": [
        {
          "output_type": "stream",
          "name": "stdout",
          "text": [
            "0\n"
          ]
        }
      ]
    },
    {
      "cell_type": "code",
      "metadata": {
        "colab": {
          "base_uri": "https://localhost:8080/"
        },
        "id": "-a102jSfMBww",
        "outputId": "a8481c46-c508-4e56-f754-271906ce6572"
      },
      "source": [
        "x = np.array([1,2,3])\n",
        "print(x.ndim) # x : vector, 1-d tensor => 1"
      ],
      "execution_count": 6,
      "outputs": [
        {
          "output_type": "stream",
          "name": "stdout",
          "text": [
            "1\n"
          ]
        }
      ]
    },
    {
      "cell_type": "code",
      "metadata": {
        "colab": {
          "base_uri": "https://localhost:8080/"
        },
        "id": "n7O883yOMO8K",
        "outputId": "8f876bf9-5d82-41a0-aee5-76f98769f1c9"
      },
      "source": [
        "x = np.array([[1, 2, 3],\n",
        "              [4, 5, 6]])\n",
        "print(x.ndim) # x : matrix, 2-d tensor"
      ],
      "execution_count": 8,
      "outputs": [
        {
          "output_type": "stream",
          "name": "stdout",
          "text": [
            "2\n"
          ]
        }
      ]
    },
    {
      "cell_type": "code",
      "metadata": {
        "id": "vREfn_GBMcNk"
      },
      "source": [
        ""
      ],
      "execution_count": null,
      "outputs": []
    },
    {
      "cell_type": "code",
      "metadata": {
        "id": "jy-6a0yLMSjf"
      },
      "source": [
        ""
      ],
      "execution_count": null,
      "outputs": []
    }
  ]
}