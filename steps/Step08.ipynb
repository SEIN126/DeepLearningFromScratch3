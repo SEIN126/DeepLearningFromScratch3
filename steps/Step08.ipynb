{
  "nbformat": 4,
  "nbformat_minor": 0,
  "metadata": {
    "colab": {
      "name": "Step08.ipynb",
      "provenance": []
    },
    "kernelspec": {
      "name": "python3",
      "display_name": "Python 3"
    },
    "language_info": {
      "name": "python"
    }
  },
  "cells": [
    {
      "cell_type": "markdown",
      "metadata": {
        "id": "uC6vqNELtAg0"
      },
      "source": [
        "# Step 8 재귀에서 반복문으로"
      ]
    },
    {
      "cell_type": "markdown",
      "metadata": {
        "id": "rDWCqaacsu1U"
      },
      "source": [
        "## 8.1 현재의 Variable 클래스"
      ]
    },
    {
      "cell_type": "code",
      "metadata": {
        "id": "4OKQEpAwulGz"
      },
      "source": [
        "import numpy as np"
      ],
      "execution_count": 5,
      "outputs": []
    },
    {
      "cell_type": "code",
      "metadata": {
        "id": "RnOZUP-0sr2r"
      },
      "source": [
        "class Variable:\n",
        "  '''\n",
        "    - 이 variable을 만들어 준 함수(func : creator)를 지정해줌\n",
        "    -> define-by-run을 위해서 이 variable이 생성(forward)됨과 동시에\n",
        "       backward를 위한 func를 연결해주는 역할을 함.\n",
        "  '''\n",
        "  def __init__(self, data):\n",
        "    self.data = data\n",
        "    self.grad = None\n",
        "    self.creator = None\n",
        "  \n",
        "  def set_creator(self, func):\n",
        "    self.creator = func\n",
        "\n",
        "  def backward(self):\n",
        "    '''\n",
        "      - 앞에 있는 변수들 grad를 재귀적으로 구해보자\n",
        "    '''\n",
        "    f = self.creator  # 현재 변수의 creator를 불러옴\n",
        "    if f is not None: \n",
        "      x = f.input     # creator의 input을 가져온다\n",
        "                      # 이미 다 연결이 되어있기 때문에 가져올 수 있음\n",
        "      x.grad = f.backward(self.grad)  # creator의 backward를 통해 \n",
        "                                      # creator의 input의 grad를 구할 수 있음\n",
        "      x.backward()   # 이 동작을 재귀적으로 수행"
      ],
      "execution_count": 6,
      "outputs": []
    },
    {
      "cell_type": "code",
      "metadata": {
        "id": "u3JXVSzFtIcg"
      },
      "source": [
        "# 반복문으로 새로 구현\n",
        "class Variable:\n",
        "  '''\n",
        "    - 이 variable을 만들어 준 함수(func : creator)를 지정해줌\n",
        "    -> define-by-run을 위해서 이 variable이 생성(forward)됨과 동시에\n",
        "       backward를 위한 func를 연결해주는 역할을 함.\n",
        "  '''\n",
        "  def __init__(self, data):\n",
        "    self.data = data\n",
        "    self.grad = None\n",
        "    self.creator = None\n",
        "  \n",
        "  def set_creator(self, func):\n",
        "    self.creator = func\n",
        "\n",
        "  def backward(self):\n",
        "    '''\n",
        "      - 재귀가 아닌 반복문으로 구현한 backward\n",
        "    '''\n",
        "    funcs = [self.creator]     # creator list 생성\n",
        "    while funcs :              # funcs의 원소가 없어질 때까지 반복\n",
        "      f = funcs.pop()          # funcs의 가장 끝 함수를 pop\n",
        "      x, y = f.input, f.output # 해당 함수의 input, output을 꺼냄\n",
        "      x.grad = f.backward(y.grad) # 해당 함수의 input의 gradient를 구함\n",
        "\n",
        "      if x.creator is not None:\n",
        "        funcs.append(x.creator) # creator input x가 creator func를 가지고 있으면\n",
        "                                # func list에 추가하고 해당 동작 반복. \n",
        "\n",
        "'''\n",
        " - 반복문으로 구현시, 복잡한 계산 그래프를 다룰 때 확장성이 뛰어나다.\n",
        " - 사실 직관적으로 봐도 그렇다. \n",
        "   variable의 creator가 반드시 하나일 이유가 없기 때문에, \n",
        "   여러 creator들을 다루어주는 것이 필수적일 것이다.\n",
        "'''"
      ],
      "execution_count": 7,
      "outputs": []
    },
    {
      "cell_type": "code",
      "metadata": {
        "colab": {
          "base_uri": "https://localhost:8080/"
        },
        "id": "FnvuIpS3uYqn",
        "outputId": "e3bd6a26-30f5-470a-8faf-bb0173db65cc"
      },
      "source": [
        "class Function:\n",
        "  '''\n",
        "    - output 저장\n",
        "    - output이 생성됨과 동시에 creator와 연결\n",
        "  '''\n",
        "  def __call__(self, input):\n",
        "    x = input.data\n",
        "    y = self.forward(x)  \n",
        "    output = Variable(y)\n",
        "\n",
        "    output.set_creator(self) # 출력 변수가 생성됨과 동시에 creator를 설정(생성과 동시에 '연결')\n",
        "    \n",
        "    self.input = input\n",
        "    self.output= output # 출력도 저장\n",
        "    return output\n",
        "\n",
        "  def forward(self, x):\n",
        "    raise NotImplementedError()\n",
        "\n",
        "  def backward(self, gy):\n",
        "    raise NotImplementedError()\n",
        "\n",
        "class Square(Function):\n",
        "  def forward(self, x):\n",
        "    y = x ** 2\n",
        "    return y\n",
        "\n",
        "  def backward(self, gy):\n",
        "    x = self.input.data\n",
        "    gx = 2 * x * gy\n",
        "    return gx\n",
        "\n",
        "class Exp(Function):\n",
        "  def forward(self, x):\n",
        "    y = np.exp(x)\n",
        "    return y\n",
        "\n",
        "  def backward(self, gy):\n",
        "    x = self.input.data\n",
        "    gx = np.exp(x) * gy\n",
        "    return gx\n",
        "\n",
        "A = Square()\n",
        "B = Exp()\n",
        "C = Square()\n",
        "\n",
        "x = Variable(np.array(0.5))\n",
        "a = A(x)\n",
        "b = B(a)\n",
        "y = C(b)\n",
        "\n",
        "# 역전파\n",
        "y.grad = np.array(1.0)\n",
        "y.backward()\n",
        "print(x.grad) # 3.297442541400256"
      ],
      "execution_count": 8,
      "outputs": [
        {
          "output_type": "stream",
          "name": "stdout",
          "text": [
            "3.297442541400256\n"
          ]
        }
      ]
    },
    {
      "cell_type": "code",
      "metadata": {
        "id": "FAQeIVCEuca1"
      },
      "source": [
        ""
      ],
      "execution_count": null,
      "outputs": []
    }
  ]
}