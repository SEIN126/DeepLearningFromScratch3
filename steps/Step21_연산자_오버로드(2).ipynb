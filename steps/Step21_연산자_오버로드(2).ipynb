{
  "nbformat": 4,
  "nbformat_minor": 0,
  "metadata": {
    "colab": {
      "name": "Step21_연산자_오버로드(2).ipynb",
      "provenance": [],
      "collapsed_sections": []
    },
    "kernelspec": {
      "name": "python3",
      "display_name": "Python 3"
    },
    "language_info": {
      "name": "python"
    }
  },
  "cells": [
    {
      "cell_type": "markdown",
      "metadata": {
        "id": "Xfvd6jV01nU1"
      },
      "source": [
        "#Step21 연산자 오버로드(2)\n",
        "Variable 인스턴스와 ndarray 인스턴스, int, float등을 함께 사용해보자"
      ]
    },
    {
      "cell_type": "markdown",
      "metadata": {
        "id": "kLMypIvF2fv-"
      },
      "source": [
        "##21.1 ndarray와 함께 사용하기\n",
        "np 인스턴스를 만나면 variable 인스턴스로 변환해주자\n",
        "\n"
      ]
    },
    {
      "cell_type": "code",
      "metadata": {
        "id": "SkJv8jgg3EeD"
      },
      "source": [
        "import numpy as np\n",
        "import weakref\n",
        "\n",
        "class Variable:\n",
        "  '''\n",
        "  중간 변수에 대해서는 미분값을 제거하는 모드를 추가\n",
        "  '''\n",
        "  def __init__(self, data, name=None):\n",
        "    if data is not None:\n",
        "      if not isinstance(data, np.ndarray):\n",
        "        raise TypeError('{}은(는) 지원하지 않습니다.'.format(type(data)))\n",
        "\n",
        "    self.data = data\n",
        "    self.name = name # name 추가\n",
        "    self.grad = None\n",
        "    self.creator = None\n",
        "    self.generation = 0 # 세대 수를 기록하는 변수 추가\n",
        "\n",
        "  def set_creator(self, func):\n",
        "    self.creator = func\n",
        "    self.generation = func.generation + 1 # 세대를 기록(부모 세대 + 1)\n",
        "\n",
        "  def backward(self, retain_grad=False):\n",
        "    if self.grad is None:\n",
        "      self.grad = np.ones_like(self.data)\n",
        "\n",
        "    funcs = []\n",
        "    seen_set = set()\n",
        "\n",
        "    def add_func(f):\n",
        "      if f not in seen_set:     # 같은 함수가 중복 추가 되는 것을 방지\n",
        "                                # -> 두 elements가 같은 creator를 가지는 경우!\n",
        "        funcs.append(f)\n",
        "        seen_set.add(f)         \n",
        "        funcs.sort(key=lambda x: x.generation)\n",
        "\n",
        "    add_func(self.creator)\n",
        "     \n",
        "    while funcs :              \n",
        "      f = funcs.pop()          \n",
        "      gys = [output().grad for output in f.outputs] # output()(약한참조)의 grad 가져옴\n",
        "      gxs = f.backward(*gys)                        # gxs를 구함\n",
        "      if not isinstance(gxs, tuple):\n",
        "        gxs = (gxs, )\n",
        "\n",
        "      for x, gx in zip(f.inputs, gxs):            # 구한 역전파를 각 x.grad에 저장\n",
        "        if x.grad is None:                        # 같은 변수일 경우에는 덮어쓰지 말고 더해주자!\n",
        "          x.grad = gx\n",
        "        else:\n",
        "          x.grad = x.grad + gx\n",
        "\n",
        "        if x.creator is not None:                 # 계속해서 역전파 수행\n",
        "          add_func(x.creator)                     # x.creator 추가\n",
        "\n",
        "      if not retain_grad: # retain_grad가 false 이면 중간 변수의 미분값을 모두 None으로 설정\n",
        "        for y in f.outputs:\n",
        "          y().grad = None # y는 약한 참조(weakref)\n",
        "\n",
        "  # 다른 인스턴스 변수를 추가해 보자.\n",
        "  # property 덕분에 메서드를 인스턴스 변수처럼 사용할 수 있음\n",
        "  @property\n",
        "  def shape(self):\n",
        "    return self.data.shape\n",
        "\n",
        "  @property\n",
        "  def ndim(self):\n",
        "    return self.data.ndim\n",
        "\n",
        "  @property\n",
        "  def size(self):\n",
        "    return self.data.size\n",
        "\n",
        "  @property\n",
        "  def dtype(self):\n",
        "    return self.data.dtype\n",
        "\n",
        "  # __len__ 구현\n",
        "  def __len__(self):\n",
        "    return len(self.data)\n",
        "\n",
        "  # print 함수가 출력해주는 내용을 정의 -> __repr__메서드를 재정의하면됨\n",
        "  def __repr__(self):\n",
        "    if self.data is None:\n",
        "      return 'variable(None)'\n",
        "\n",
        "    p = str(self.data).replace('\\n', '\\n' + ' ' * 9)\n",
        "    return 'variable(' + p + ')'\n",
        "\n",
        "class Config:\n",
        "  '''\n",
        "    enable_backprop : 역전파가 가능한지 여부를 물음\n",
        "    config 데이터는 한 곳에만 존재하는 것이 좋음.\n",
        "    Config 클래스는 인스턴스화 하지 않고 '클래스' 상태로 이용!\n",
        "    왜냐? 인스턴스는 여러 개 생성할 수 있지만, 클래스는 항상 하나만 존재하기 때문!\n",
        "  '''\n",
        "  enable_backprop = True\n",
        "\n",
        "import contextlib\n",
        "\n",
        "@contextlib.contextmanager\n",
        "def using_config(name, value):\n",
        "  old_value = getattr(Config, name) # Config의 'name'이름을 가진 속성을 가르킴\n",
        "  setattr(Config, name, value) # 내가 원하는 value값으로 Config안의 name의 속성을 설정\n",
        "  try:\n",
        "    yield\n",
        "  finally:\n",
        "    setattr(Config, name, old_value) # 원래의 old value로 설정\n",
        "\n",
        "def no_grad():\n",
        "  '''\n",
        "    단순히 using_config('enable_backprop', False) 코드를 호출해줌\n",
        "  '''\n",
        "  return using_config('enable_backprop', False)\n",
        "\n",
        "def as_array(x):\n",
        "  if np.isscalar(x):\n",
        "    # x가 np.float64 같은 scalar 타입인지 확인(일반 float도 확인됨)\n",
        "    return np.array(x)\n",
        "  return x"
      ],
      "execution_count": 10,
      "outputs": []
    },
    {
      "cell_type": "code",
      "metadata": {
        "id": "FG5cqr8C1fMW"
      },
      "source": [
        "def as_variable(obj):\n",
        "  '''\n",
        "  obj를 variable로 변환\n",
        "  '''\n",
        "  if isinstance(obj, Variable):\n",
        "    return obj\n",
        "  return Variable(obj)"
      ],
      "execution_count": 5,
      "outputs": []
    },
    {
      "cell_type": "code",
      "metadata": {
        "id": "1o2NkVF627Rq"
      },
      "source": [
        "class Function:\n",
        "  def __call__(self, *inputs):\n",
        "    # 모든 inputs를 variable로 만들어줌\n",
        "    inputs = [as_variable(x) for x in inputs]\n",
        "\n",
        "    xs = [x.data for x in inputs]\n",
        "    ys = self.forward(*xs) # 언팩\n",
        "    if not isinstance(ys, tuple): # tuple 형태가 아닐 경우 추가 지원\n",
        "      ys = (ys,)\n",
        "    outputs = [Variable(as_array(y)) for y in ys]\n",
        "\n",
        "    if Config.enable_backprop: # 클래스 상태의 enable_backprop = True 일때만 역전파 코드 실행\n",
        "      self.generation = max([x.generation for x in inputs]) # 세대 설정\n",
        "      for output in outputs:\n",
        "        output.set_creator(self)   # 연결 설정\n",
        "      self.inputs = inputs\n",
        "      self.outputs= [weakref.ref(output) for output in outputs] \n",
        "    \n",
        "    return outputs if len(outputs) > 1 else outputs[0]\n",
        "\n",
        "  def forward(self, x):\n",
        "    raise NotImplementedError()\n",
        "\n",
        "  def backward(self, gy):\n",
        "    raise NotImplementedError()\n",
        "\n",
        "class Add(Function):\n",
        "  def forward(self, x0, x1):\n",
        "    y = x0 + x1\n",
        "    return y\n",
        "\n",
        "  def backward(self, gy):\n",
        "    '''\n",
        "      backward 부분 추가\n",
        "    '''\n",
        "    return gy, gy\n",
        "\n",
        "def add(x0, x1):\n",
        "  return Add()(x0, x1)\n",
        "\n",
        "class Square(Function):\n",
        "  def forward(self, x):\n",
        "    y = x ** 2\n",
        "    return y\n",
        "\n",
        "  def backward(self, gy):\n",
        "    x = self.inputs[0].data # Function 함수에서 inputs (튜플)로 받기 때문에 input-> inputs[0]으로 바꿔줌\n",
        "    gx = 2 * x * gy\n",
        "    return gx\n",
        "\n",
        "def square(x):\n",
        "  return Square()(x)\n",
        "\n",
        "class Mul(Function):\n",
        "  def forward(self, x0, x1):\n",
        "    y = x0 * x1\n",
        "    return y\n",
        "\n",
        "  def backward(self, gy):\n",
        "    x0, x1 = self.inputs[0].data, self.inputs[1].data\n",
        "    return gy*x1, gy*x0\n",
        "\n",
        "def mul(x0, x1):\n",
        "  return Mul()(x0, x1)\n",
        "\n",
        "Variable.__mul__ = mul\n",
        "Variable.__add__ = add"
      ],
      "execution_count": 11,
      "outputs": []
    },
    {
      "cell_type": "code",
      "metadata": {
        "colab": {
          "base_uri": "https://localhost:8080/"
        },
        "id": "HOTEytGt36fN",
        "outputId": "2e3497b6-4639-4a0c-a57f-167aceedfcbf"
      },
      "source": [
        "x = Variable(np.array(2.0))\n",
        "y = x + np.array(3.0)\n",
        "\n",
        "print(y)"
      ],
      "execution_count": 12,
      "outputs": [
        {
          "output_type": "stream",
          "name": "stdout",
          "text": [
            "variable(5.0)\n"
          ]
        }
      ]
    },
    {
      "cell_type": "markdown",
      "metadata": {
        "id": "fWvP7IJ04d8v"
      },
      "source": [
        "##21.2 float, int와 함께 사용하기"
      ]
    },
    {
      "cell_type": "code",
      "metadata": {
        "id": "k9UWy1zK4QX-"
      },
      "source": [
        "class Add(Function):\n",
        "  def forward(self, x0, x1):\n",
        "    y = x0 + x1\n",
        "    return y\n",
        "\n",
        "  def backward(self, gy):\n",
        "    '''\n",
        "      backward 부분 추가\n",
        "    '''\n",
        "    return gy, gy\n",
        "\n",
        "def add(x0, x1):\n",
        "  x1 = as_array(x1) # x1이 float, int, np.float64, np.int64인 경우 ndarray로 반환\n",
        "  return Add()(x0, x1)\n",
        "\n",
        "class Square(Function):\n",
        "  def forward(self, x):\n",
        "    y = x ** 2\n",
        "    return y\n",
        "\n",
        "  def backward(self, gy):\n",
        "    x = self.inputs[0].data # Function 함수에서 inputs (튜플)로 받기 때문에 input-> inputs[0]으로 바꿔줌\n",
        "    gx = 2 * x * gy\n",
        "    return gx\n",
        "\n",
        "def square(x):\n",
        "  x1 = as_array(x1)\n",
        "  return Square()(x)\n",
        "\n",
        "class Mul(Function):\n",
        "  def forward(self, x0, x1):\n",
        "    y = x0 * x1\n",
        "    return y\n",
        "\n",
        "  def backward(self, gy):\n",
        "    x0, x1 = self.inputs[0].data, self.inputs[1].data\n",
        "    return gy*x1, gy*x0\n",
        "\n",
        "def mul(x0, x1):\n",
        "  x1 = as_array(x1)\n",
        "  return Mul()(x0, x1)\n",
        "\n",
        "Variable.__mul__ = mul\n",
        "Variable.__add__ = add"
      ],
      "execution_count": 15,
      "outputs": []
    },
    {
      "cell_type": "code",
      "metadata": {
        "colab": {
          "base_uri": "https://localhost:8080/"
        },
        "id": "P36Uob6246o3",
        "outputId": "38cc43b7-ff80-451d-c165-950cf6abc861"
      },
      "source": [
        "x = Variable(np.array(2.0))\n",
        "y = x + 3.0\n",
        "print(y)"
      ],
      "execution_count": 14,
      "outputs": [
        {
          "output_type": "stream",
          "name": "stdout",
          "text": [
            "variable(5.0)\n"
          ]
        }
      ]
    },
    {
      "cell_type": "markdown",
      "metadata": {
        "id": "BdduoGuv5GUU"
      },
      "source": [
        "##21.3 문제점 1: 첫 번째 인수가 float나 int인 경우\n",
        "y = 2.0 * x 의 경우, error가 나타남.\n",
        "원인:\n",
        "1. 연산자 왼쪽에 있는 2.0의 __ mul__ 메서드를 호출하려 시도한다.\n",
        "2. 하지만 2.0은 float타입이므로 __ mul__ 메서드는 구현되어 있지 않다.\n",
        "3. 다음은 * 연산자 오른쪽에 있는 x의 특수 메서드를 호출하려 시도.\n",
        "4. x가 오른쪽에 있기 때문에 (__ mul__대신) __ rmul__메서드를 호출하려고 시도한다.\n",
        "5.하지만 variable 인스턴스에는 __ mul__ 메서드가 구현되어 있지 않다.\n",
        "--> 따라서 __ rmul__ 메서드를 구현하면 해결!"
      ]
    },
    {
      "cell_type": "code",
      "metadata": {
        "id": "xAM1Tn6d5Oxa"
      },
      "source": [
        "Variable.__add__  = add\n",
        "Variable.__radd__ = add\n",
        "Variable.__mul__  = mul\n",
        "Variable.__rmul__ = mul"
      ],
      "execution_count": 16,
      "outputs": []
    },
    {
      "cell_type": "code",
      "metadata": {
        "colab": {
          "base_uri": "https://localhost:8080/"
        },
        "id": "bhgPjGmk7Ux4",
        "outputId": "5a8d869b-2900-4d34-a3b8-b7351bfd08e9"
      },
      "source": [
        "x = Variable(np.array(2.0))\n",
        "y = 3.0 * x + 1.0\n",
        "print(y)"
      ],
      "execution_count": 17,
      "outputs": [
        {
          "output_type": "stream",
          "name": "stdout",
          "text": [
            "variable(7.0)\n"
          ]
        }
      ]
    },
    {
      "cell_type": "markdown",
      "metadata": {
        "id": "xulGx5Ls7eLq"
      },
      "source": [
        "##21.4 문제점 2: 좌항이 ndarray 인스턴스인 경우\n",
        "-> np.ndarray와 Variable 인스턴스의 연산이 수행될 때,    \n",
        "\n",
        "x = Variable(np.array([1.0]))    \n",
        "y = np.array([2.0]) + x\n",
        "    \n",
        "이 경우에는 좌항인 ndarray 인스턴스의 __add__메서드가 호출됨!\n",
        "하지만 우항의 Variable 인스턴스의 __radd__ 메서드가 호출되기를 원함\n",
        "-> '연산자 우선순위'를 지정해주자!\n",
        "-> Variable 인스턴스의 속성에 __ array_priority_를 추가하고, 충분히 큰 값을 상수로 설정해주면 됨."
      ]
    },
    {
      "cell_type": "code",
      "metadata": {
        "id": "DzTDAy227iQ_"
      },
      "source": [
        "class Variable:\n",
        "  # 연산자 우선순위 지정\n",
        "  __array_priority__ = 200\n",
        "  def __init__(self, data, name=None):\n",
        "    if data is not None:\n",
        "      if not isinstance(data, np.ndarray):\n",
        "        raise TypeError('{}은(는) 지원하지 않습니다.'.format(type(data)))\n",
        "\n",
        "    self.data = data\n",
        "    self.name = name # name 추가\n",
        "    self.grad = None\n",
        "    self.creator = None\n",
        "    self.generation = 0 # 세대 수를 기록하는 변수 추가\n",
        "\n",
        "  def set_creator(self, func):\n",
        "    self.creator = func\n",
        "    self.generation = func.generation + 1 # 세대를 기록(부모 세대 + 1)\n",
        "\n",
        "  def backward(self, retain_grad=False):\n",
        "    if self.grad is None:\n",
        "      self.grad = np.ones_like(self.data)\n",
        "\n",
        "    funcs = []\n",
        "    seen_set = set()\n",
        "\n",
        "    def add_func(f):\n",
        "      if f not in seen_set:     # 같은 함수가 중복 추가 되는 것을 방지\n",
        "                                # -> 두 elements가 같은 creator를 가지는 경우!\n",
        "        funcs.append(f)\n",
        "        seen_set.add(f)         \n",
        "        funcs.sort(key=lambda x: x.generation)\n",
        "\n",
        "    add_func(self.creator)\n",
        "     \n",
        "    while funcs :              \n",
        "      f = funcs.pop()          \n",
        "      gys = [output().grad for output in f.outputs] # output()(약한참조)의 grad 가져옴\n",
        "      gxs = f.backward(*gys)                        # gxs를 구함\n",
        "      if not isinstance(gxs, tuple):\n",
        "        gxs = (gxs, )\n",
        "\n",
        "      for x, gx in zip(f.inputs, gxs):            # 구한 역전파를 각 x.grad에 저장\n",
        "        if x.grad is None:                        # 같은 변수일 경우에는 덮어쓰지 말고 더해주자!\n",
        "          x.grad = gx\n",
        "        else:\n",
        "          x.grad = x.grad + gx\n",
        "\n",
        "        if x.creator is not None:                 # 계속해서 역전파 수행\n",
        "          add_func(x.creator)                     # x.creator 추가\n",
        "\n",
        "      if not retain_grad: # retain_grad가 false 이면 중간 변수의 미분값을 모두 None으로 설정\n",
        "        for y in f.outputs:\n",
        "          y().grad = None # y는 약한 참조(weakref)\n",
        "\n",
        "  # 다른 인스턴스 변수를 추가해 보자.\n",
        "  # property 덕분에 메서드를 인스턴스 변수처럼 사용할 수 있음\n",
        "  @property\n",
        "  def shape(self):\n",
        "    return self.data.shape\n",
        "\n",
        "  @property\n",
        "  def ndim(self):\n",
        "    return self.data.ndim\n",
        "\n",
        "  @property\n",
        "  def size(self):\n",
        "    return self.data.size\n",
        "\n",
        "  @property\n",
        "  def dtype(self):\n",
        "    return self.data.dtype\n",
        "\n",
        "  # __len__ 구현\n",
        "  def __len__(self):\n",
        "    return len(self.data)\n",
        "\n",
        "  # print 함수가 출력해주는 내용을 정의 -> __repr__메서드를 재정의하면됨\n",
        "  def __repr__(self):\n",
        "    if self.data is None:\n",
        "      return 'variable(None)'\n",
        "\n",
        "    p = str(self.data).replace('\\n', '\\n' + ' ' * 9)\n",
        "    return 'variable(' + p + ')'"
      ],
      "execution_count": 19,
      "outputs": []
    },
    {
      "cell_type": "markdown",
      "metadata": {
        "id": "j8p2rbBM8vlP"
      },
      "source": [
        ""
      ]
    }
  ]
}