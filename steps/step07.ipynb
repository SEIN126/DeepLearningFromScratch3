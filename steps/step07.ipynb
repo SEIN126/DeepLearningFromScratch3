{
  "nbformat": 4,
  "nbformat_minor": 0,
  "metadata": {
    "colab": {
      "name": "step07.ipynb",
      "provenance": [],
      "collapsed_sections": []
    },
    "kernelspec": {
      "name": "python3",
      "display_name": "Python 3"
    },
    "language_info": {
      "name": "python"
    }
  },
  "cells": [
    {
      "cell_type": "markdown",
      "metadata": {
        "id": "xi3H0cAdlynC"
      },
      "source": [
        "#Step7 역전파 자동화"
      ]
    },
    {
      "cell_type": "markdown",
      "metadata": {
        "id": "G27MmU7OmcXY"
      },
      "source": [
        "## 7.1 역전파 자동화의 시작"
      ]
    },
    {
      "cell_type": "code",
      "metadata": {
        "id": "AfiWdq54lyAB"
      },
      "source": [
        "import numpy as np\n",
        "\n",
        "class Variable:\n",
        "  '''\n",
        "    - 이 variable을 만들어 준 함수(func : creator)를 지정해줌\n",
        "    -> define-by-run을 위해서 이 variable이 생성(forward)됨과 동시에\n",
        "       backward를 위한 func를 연결해주는 역할을 함.\n",
        "  '''\n",
        "  def __init__(self, data):\n",
        "    self.data = data\n",
        "    self.grad = None\n",
        "    self.creator = None\n",
        "  \n",
        "  def set_creator(self, func):\n",
        "    self.creator = func"
      ],
      "execution_count": 2,
      "outputs": []
    },
    {
      "cell_type": "code",
      "metadata": {
        "id": "HlXA6Zjsm-OX"
      },
      "source": [
        "class Function:\n",
        "  '''\n",
        "    - output 저장\n",
        "    - output이 생성됨과 동시에 creator와 연결\n",
        "  '''\n",
        "  def __call__(self, input):\n",
        "    x = input.data\n",
        "    y = self.forward(x)  \n",
        "    output = Variable(y)\n",
        "\n",
        "    output.set_creator(self) # 출력 변수가 생성됨과 동시에 creator를 설정(생성과 동시에 '연결')\n",
        "    \n",
        "    self.input = input\n",
        "    self.output= output # 출력도 저장\n",
        "    return output\n",
        "\n",
        "  def forward(self, x):\n",
        "    raise NotImplementedError()\n",
        "\n",
        "  def backward(self, gy):\n",
        "    raise NotImplementedError()"
      ],
      "execution_count": 3,
      "outputs": []
    },
    {
      "cell_type": "code",
      "metadata": {
        "id": "yq3J5g25nYYl"
      },
      "source": [
        "class Square(Function):\n",
        "  def forward(self, x):\n",
        "    y = x ** 2\n",
        "    return y\n",
        "\n",
        "  def backward(self, gy):\n",
        "    x = self.input.data\n",
        "    gx = 2 * x * gy\n",
        "    return gx\n",
        "\n",
        "class Exp(Function):\n",
        "  def forward(self, x):\n",
        "    y = np.exp(x)\n",
        "    return y\n",
        "\n",
        "  def backward(self, gy):\n",
        "    x = self.input.data\n",
        "    gx = np.exp(x) * gy\n",
        "    return gx"
      ],
      "execution_count": 4,
      "outputs": []
    },
    {
      "cell_type": "code",
      "metadata": {
        "id": "39Pl5Gg9ncKx"
      },
      "source": [
        "A = Square()\n",
        "B = Exp()\n",
        "C = Square()\n",
        "\n",
        "x = Variable(np.array(0.5))\n",
        "a = A(x)\n",
        "b = B(a)\n",
        "y = C(b)\n",
        "\n",
        "# 계산 그래프를 거꾸로 올라감\n",
        "'''\n",
        "assert ... : ...에 조건문이 들어가는데, 이 조건문이 True가 아니면 예외 발생!\n",
        "'''\n",
        "assert y.creator == C\n",
        "assert y.creator.input == b\n",
        "assert y.creator.input.creator == B\n",
        "assert y.creator.input.creator.input == a\n",
        "assert y.creator.input.creator.input.creator == A\n",
        "assert y.creator.input.creator.input.creator.input == x\n",
        "# 예외 처리 없이 모두 수행 완료! -> 모두 정상적으로 연결됨을 확인!\n",
        "# 이 연결은 모두 계산을 수행하는 시점(forward run)에 만들어짐. => define by run\n",
        "# 결국 링크드 리스트와 비슷한 구조가 됨"
      ],
      "execution_count": 5,
      "outputs": []
    },
    {
      "cell_type": "markdown",
      "metadata": {
        "id": "AGZA-QB7ohXl"
      },
      "source": [
        "## 7.2 역전파 도전!"
      ]
    },
    {
      "cell_type": "code",
      "metadata": {
        "id": "-1Et3yQIoHhw"
      },
      "source": [
        "y.grad = np.array(1.0)\n",
        "\n",
        "C = y.creator # 함수를 y와 연결\n",
        "b = C.input   # 함수의 입력과 연결\n",
        "b.grad = C.backward(y.grad) # 함수의 backward 메서드를 호출한다"
      ],
      "execution_count": 6,
      "outputs": []
    },
    {
      "cell_type": "code",
      "metadata": {
        "id": "QNMKv8IypnC-"
      },
      "source": [
        "B = b.creator\n",
        "a = B.input\n",
        "a.grad = B.backward(b.grad)"
      ],
      "execution_count": 8,
      "outputs": []
    },
    {
      "cell_type": "code",
      "metadata": {
        "colab": {
          "base_uri": "https://localhost:8080/"
        },
        "id": "8kVhy-lfqGhs",
        "outputId": "dd0c1beb-96b8-4a49-b801-cd36044fe505"
      },
      "source": [
        "A = a.creator\n",
        "x = A.input\n",
        "x.grad = A.backward(a.grad)\n",
        "print(x.grad) # 3.297442541400256"
      ],
      "execution_count": 9,
      "outputs": [
        {
          "output_type": "stream",
          "name": "stdout",
          "text": [
            "3.297442541400256\n"
          ]
        }
      ]
    },
    {
      "cell_type": "markdown",
      "metadata": {
        "id": "d99WU8htqRsi"
      },
      "source": [
        "## 7.3 backward 메서드 추가"
      ]
    },
    {
      "cell_type": "code",
      "metadata": {
        "id": "ZpfT0OdoqQL0"
      },
      "source": [
        "class Variable:\n",
        "  '''\n",
        "    - 이 variable을 만들어 준 함수(func : creator)를 지정해줌\n",
        "    -> define-by-run을 위해서 이 variable이 생성(forward)됨과 동시에\n",
        "       backward를 위한 func를 연결해주는 역할을 함.\n",
        "  '''\n",
        "  def __init__(self, data):\n",
        "    self.data = data\n",
        "    self.grad = None\n",
        "    self.creator = None\n",
        "  \n",
        "  def set_creator(self, func):\n",
        "    self.creator = func\n",
        "\n",
        "  def backward(self):\n",
        "    '''\n",
        "      - 앞에 있는 변수들 grad를 재귀적으로 구해보자\n",
        "    '''\n",
        "    f = self.creator  # 현재 변수의 creator를 불러옴\n",
        "    if f is not None: \n",
        "      x = f.input     # creator의 input을 가져온다\n",
        "                      # 이미 다 연결이 되어있기 때문에 가져올 수 있음\n",
        "      x.grad = f.backward(self.grad)  # creator의 backward를 통해 \n",
        "                                      # creator의 input의 grad를 구할 수 있음\n",
        "      x.backward()   # 이 동작을 재귀적으로 수행"
      ],
      "execution_count": 11,
      "outputs": []
    },
    {
      "cell_type": "code",
      "metadata": {
        "colab": {
          "base_uri": "https://localhost:8080/"
        },
        "id": "4AhLQ__EsQVr",
        "outputId": "12eda444-eef5-481f-c71b-455fe8cf8524"
      },
      "source": [
        "A = Square()\n",
        "B = Exp()\n",
        "C = Square()\n",
        "\n",
        "x = Variable(np.array(0.5))\n",
        "a = A(x)\n",
        "b = B(a)\n",
        "y = C(b)\n",
        "\n",
        "# 역전파\n",
        "y.grad = np.array(1.0)\n",
        "y.backward()\n",
        "print(x.grad) # 3.297442541400256"
      ],
      "execution_count": 12,
      "outputs": [
        {
          "output_type": "stream",
          "name": "stdout",
          "text": [
            "3.297442541400256\n"
          ]
        }
      ]
    }
  ]
}