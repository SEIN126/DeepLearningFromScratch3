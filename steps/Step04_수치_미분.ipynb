{
  "nbformat": 4,
  "nbformat_minor": 0,
  "metadata": {
    "colab": {
      "name": "step04.ipynb",
      "provenance": []
    },
    "kernelspec": {
      "name": "python3",
      "display_name": "Python 3"
    },
    "language_info": {
      "name": "python"
    }
  },
  "cells": [
    {
      "cell_type": "markdown",
      "metadata": {
        "id": "5me8BLWhG8a8"
      },
      "source": [
        "#4. 수치미분\n"
      ]
    },
    {
      "cell_type": "code",
      "metadata": {
        "id": "8qfhHYXZF8qE"
      },
      "source": [
        "import numpy as np\n",
        "\n",
        "class Variable:\n",
        "    def __init__(self, data):\n",
        "        self.data = data\n",
        "\n",
        "class Function:\n",
        "    '''\n",
        "      - 공통 된 기능만 가지고 있음\n",
        "    '''\n",
        "    def __call__(self, input):\n",
        "        x = input.data\n",
        "        y = self.forward(x)  # 구체적인 계산은 forward method에서 함.\n",
        "        output = Variable(y)\n",
        "        return output\n",
        "\n",
        "    def forward(self, x):\n",
        "        '''\n",
        "        - 이 메소드는 상속하여 구현해야 한다\n",
        "        '''\n",
        "        raise NotImplementedError()\n",
        "\n",
        "class Square(Function):\n",
        "  def forward(self, x):\n",
        "    return x ** 2\n",
        "\n",
        "class Exp(Function):\n",
        "  def forward(self, x):\n",
        "    return np.exp(x)"
      ],
      "execution_count": 1,
      "outputs": []
    },
    {
      "cell_type": "code",
      "metadata": {
        "id": "bOIptm2UHBTC"
      },
      "source": [
        "def numerical_diff(f, x, eps=1e-4):\n",
        "  x0 = Variable(x.data - eps)\n",
        "  x1 = Variable(x.data + eps)\n",
        "  y0 = f(x0)\n",
        "  y1 = f(x1)\n",
        "\n",
        "  return (y1.data - y0.data) / (2 * eps)"
      ],
      "execution_count": 2,
      "outputs": []
    },
    {
      "cell_type": "code",
      "metadata": {
        "colab": {
          "base_uri": "https://localhost:8080/"
        },
        "id": "94oDwDWyHhnt",
        "outputId": "d90bcdcb-b567-40d8-823b-e97b202827d1"
      },
      "source": [
        "f = Square()\n",
        "x = Variable(np.array(2.0))\n",
        "dy = numerical_diff(f, x)\n",
        "print(dy)"
      ],
      "execution_count": 3,
      "outputs": [
        {
          "output_type": "stream",
          "name": "stdout",
          "text": [
            "4.000000000004\n"
          ]
        }
      ]
    },
    {
      "cell_type": "markdown",
      "metadata": {
        "id": "8A0cQrODHyym"
      },
      "source": [
        "## 합성 함수의 미분"
      ]
    },
    {
      "cell_type": "code",
      "metadata": {
        "colab": {
          "base_uri": "https://localhost:8080/"
        },
        "id": "Tr4Hq1zSHvIQ",
        "outputId": "ace7e8dd-043f-4263-d3fb-07a2f0e6f894"
      },
      "source": [
        "def f(x):\n",
        "  A = Square()\n",
        "  B = Exp()\n",
        "  C = Square()\n",
        "  return C(B(A(x)))\n",
        "\n",
        "x = Variable(np.array(0.5))\n",
        "dy = numerical_diff(f, x)\n",
        "print(dy)"
      ],
      "execution_count": 4,
      "outputs": [
        {
          "output_type": "stream",
          "name": "stdout",
          "text": [
            "3.2974426293330694\n"
          ]
        }
      ]
    },
    {
      "cell_type": "markdown",
      "metadata": {
        "id": "Fj1k1w0_JE32"
      },
      "source": [
        "**계산량이 많으므로 수치미분 보다는 역전파를 통해서 gradient를 구함!** "
      ]
    }
  ]
}