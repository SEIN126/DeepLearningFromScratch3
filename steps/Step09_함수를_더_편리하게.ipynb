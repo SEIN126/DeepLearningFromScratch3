{
  "nbformat": 4,
  "nbformat_minor": 0,
  "metadata": {
    "colab": {
      "name": "Step09_함수를_더_편리하게.ipynb",
      "provenance": [],
      "collapsed_sections": []
    },
    "kernelspec": {
      "name": "python3",
      "display_name": "Python 3"
    },
    "language_info": {
      "name": "python"
    }
  },
  "cells": [
    {
      "cell_type": "code",
      "metadata": {
        "id": "MbOfSEBEfRia"
      },
      "source": [
        "import numpy as np"
      ],
      "execution_count": 1,
      "outputs": []
    },
    {
      "cell_type": "markdown",
      "metadata": {
        "id": "jF-TSeNRgw0J"
      },
      "source": [
        "# Stepp9 함수를 더 편리하게\n",
        "## 파이썬 함수로 이용하기\n",
        "그 동안 클래스로 구현되었던 func들을 파이썬 함수로 작성해서 활용성을 높이자!"
      ]
    },
    {
      "cell_type": "code",
      "metadata": {
        "id": "6-yHwxNie7q0"
      },
      "source": [
        "# 반복문으로 새로 구현\n",
        "class Variable:\n",
        "  def __init__(self, data):\n",
        "    self.data = data\n",
        "    self.grad = None\n",
        "    self.creator = None\n",
        "  \n",
        "  def set_creator(self, func):\n",
        "    self.creator = func\n",
        "\n",
        "  def backward(self):\n",
        "    funcs = [self.creator]     \n",
        "    while funcs :              \n",
        "      f = funcs.pop()          \n",
        "      x, y = f.input, f.output \n",
        "      x.grad = f.backward(y.grad)\n",
        "\n",
        "      if x.creator is not None:\n",
        "        funcs.append(x.creator) "
      ],
      "execution_count": 5,
      "outputs": []
    },
    {
      "cell_type": "code",
      "metadata": {
        "id": "hHYX5NT2fUG-"
      },
      "source": [
        "class Function:\n",
        "  def __call__(self, input):\n",
        "    x = input.data\n",
        "    y = self.forward(x)  \n",
        "    output = Variable(y)\n",
        "\n",
        "    output.set_creator(self) \n",
        "    \n",
        "    self.input = input\n",
        "    self.output= output \n",
        "    return output\n",
        "\n",
        "  def forward(self, x):\n",
        "    raise NotImplementedError()\n",
        "\n",
        "  def backward(self, gy):\n",
        "    raise NotImplementedError()\n",
        "\n",
        "class Square(Function):\n",
        "  def forward(self, x):\n",
        "    y = x ** 2\n",
        "    return y\n",
        "\n",
        "  def backward(self, gy):\n",
        "    x = self.input.data\n",
        "    gx = 2 * x * gy\n",
        "    return gx\n",
        "\n",
        "class Exp(Function):\n",
        "  def forward(self, x):\n",
        "    y = np.exp(x)\n",
        "    return y\n",
        "\n",
        "  def backward(self, gy):\n",
        "    x = self.input.data\n",
        "    gx = np.exp(x) * gy\n",
        "    return gx"
      ],
      "execution_count": 6,
      "outputs": []
    },
    {
      "cell_type": "code",
      "metadata": {
        "id": "en0PIJYZfqLK"
      },
      "source": [
        "# 함수로 작성해서 더 편리하게!\n",
        "def square(x):\n",
        "  return Square()(x)\n",
        "\n",
        "def exp(x):\n",
        "  return Exp()(x)"
      ],
      "execution_count": 7,
      "outputs": []
    },
    {
      "cell_type": "code",
      "metadata": {
        "colab": {
          "base_uri": "https://localhost:8080/"
        },
        "id": "KyeOlm6ogHU9",
        "outputId": "8a1376a4-d9b9-4b76-93ad-86af90ab65eb"
      },
      "source": [
        "x = Variable(np.array(0.5))\n",
        "y = square(exp(square(x)))\n",
        "\n",
        "y.grad = np.array(1.0)\n",
        "y.backward()\n",
        "print(x.grad)"
      ],
      "execution_count": 9,
      "outputs": [
        {
          "output_type": "stream",
          "name": "stdout",
          "text": [
            "3.297442541400256\n"
          ]
        }
      ]
    },
    {
      "cell_type": "markdown",
      "metadata": {
        "id": "0bhGIJrjheBa"
      },
      "source": [
        "## 9.2 backward 메서드 간소화"
      ]
    },
    {
      "cell_type": "code",
      "metadata": {
        "id": "c2FHzSmbhkmJ"
      },
      "source": [
        "class Variable:\n",
        "  def __init__(self, data):\n",
        "    self.data = data\n",
        "    self.grad = None\n",
        "    self.creator = None\n",
        "  \n",
        "  def set_creator(self, func):\n",
        "    self.creator = func\n",
        "\n",
        "  def backward(self):\n",
        "    # 이 if 문으로 grad를 자동으로 1로 줄 수 있음\n",
        "    if self.grad is None:\n",
        "      self.grad = np.ones_like(self.data)\n",
        "\n",
        "    funcs = [self.creator]     \n",
        "    while funcs :              \n",
        "      f = funcs.pop()          \n",
        "      x, y = f.input, f.output \n",
        "      x.grad = f.backward(y.grad)\n",
        "\n",
        "      if x.creator is not None:\n",
        "        funcs.append(x.creator) "
      ],
      "execution_count": 10,
      "outputs": []
    },
    {
      "cell_type": "code",
      "metadata": {
        "colab": {
          "base_uri": "https://localhost:8080/"
        },
        "id": "BQOgPHXeid3L",
        "outputId": "99de5562-078f-4cd6-f8d1-32a3a7793520"
      },
      "source": [
        "x = Variable(np.array(0.5))\n",
        "y = square(exp(square(x)))\n",
        "\n",
        "y.backward()\n",
        "print(x.grad)"
      ],
      "execution_count": 11,
      "outputs": [
        {
          "output_type": "stream",
          "name": "stdout",
          "text": [
            "3.297442541400256\n"
          ]
        }
      ]
    },
    {
      "cell_type": "markdown",
      "metadata": {
        "id": "O6KwwoCkij6i"
      },
      "source": [
        "## 9.3 ndarray만 취급하기\n",
        "사용자가 ndarray가 아닌 다른 인스턴스를 사용했을 때 오류를 일으키도록."
      ]
    },
    {
      "cell_type": "code",
      "metadata": {
        "id": "ZjtAF3Vyihvm"
      },
      "source": [
        "class Variable:\n",
        "  def __init__(self, data):\n",
        "    # data의 type이 np.ndarray가 아니면 오류를 발생\n",
        "    if data is not None:\n",
        "      if not isinstance(data, np.ndarray):\n",
        "        raise TypeError('{}는 지원하지 않습니다.'.format(type(data)))\n",
        "    \n",
        "    self.data = data\n",
        "    self.grad = None\n",
        "    self.creator = None\n",
        "  \n",
        "  def set_creator(self, func):\n",
        "    self.creator = func\n",
        "\n",
        "  def backward(self):\n",
        "    # 이 if 문으로 grad를 자동으로 1로 줄 수 있음\n",
        "    if self.grad is None:\n",
        "      self.grad = np.ones_like(self.data)\n",
        "\n",
        "    funcs = [self.creator]     \n",
        "    while funcs :              \n",
        "      f = funcs.pop()          \n",
        "      x, y = f.input, f.output \n",
        "      x.grad = f.backward(y.grad)\n",
        "\n",
        "      if x.creator is not None:\n",
        "        funcs.append(x.creator) "
      ],
      "execution_count": 12,
      "outputs": []
    },
    {
      "cell_type": "code",
      "metadata": {
        "colab": {
          "base_uri": "https://localhost:8080/",
          "height": 334
        },
        "id": "gqTx5mCyjdGX",
        "outputId": "550950bc-7081-4eb2-d614-82c94f40d829"
      },
      "source": [
        "x = Variable(np.array(1.0)) # ok\n",
        "x = Variable(None) # ok\n",
        "\n",
        "x = Variable(1.0) # 오류 발생!"
      ],
      "execution_count": 13,
      "outputs": [
        {
          "output_type": "error",
          "ename": "TypeError",
          "evalue": "ignored",
          "traceback": [
            "\u001b[0;31m---------------------------------------------------------------------------\u001b[0m",
            "\u001b[0;31mTypeError\u001b[0m                                 Traceback (most recent call last)",
            "\u001b[0;32m<ipython-input-13-903270a68c89>\u001b[0m in \u001b[0;36m<module>\u001b[0;34m()\u001b[0m\n\u001b[1;32m      2\u001b[0m \u001b[0mx\u001b[0m \u001b[0;34m=\u001b[0m \u001b[0mVariable\u001b[0m\u001b[0;34m(\u001b[0m\u001b[0;32mNone\u001b[0m\u001b[0;34m)\u001b[0m \u001b[0;31m# ok\u001b[0m\u001b[0;34m\u001b[0m\u001b[0;34m\u001b[0m\u001b[0m\n\u001b[1;32m      3\u001b[0m \u001b[0;34m\u001b[0m\u001b[0m\n\u001b[0;32m----> 4\u001b[0;31m \u001b[0mx\u001b[0m \u001b[0;34m=\u001b[0m \u001b[0mVariable\u001b[0m\u001b[0;34m(\u001b[0m\u001b[0;36m1.0\u001b[0m\u001b[0;34m)\u001b[0m \u001b[0;31m# 오류 발생!\u001b[0m\u001b[0;34m\u001b[0m\u001b[0;34m\u001b[0m\u001b[0m\n\u001b[0m",
            "\u001b[0;32m<ipython-input-12-29ff0748bef4>\u001b[0m in \u001b[0;36m__init__\u001b[0;34m(self, data)\u001b[0m\n\u001b[1;32m      4\u001b[0m     \u001b[0;32mif\u001b[0m \u001b[0mdata\u001b[0m \u001b[0;32mis\u001b[0m \u001b[0;32mnot\u001b[0m \u001b[0;32mNone\u001b[0m\u001b[0;34m:\u001b[0m\u001b[0;34m\u001b[0m\u001b[0;34m\u001b[0m\u001b[0m\n\u001b[1;32m      5\u001b[0m       \u001b[0;32mif\u001b[0m \u001b[0;32mnot\u001b[0m \u001b[0misinstance\u001b[0m\u001b[0;34m(\u001b[0m\u001b[0mdata\u001b[0m\u001b[0;34m,\u001b[0m \u001b[0mnp\u001b[0m\u001b[0;34m.\u001b[0m\u001b[0mndarray\u001b[0m\u001b[0;34m)\u001b[0m\u001b[0;34m:\u001b[0m\u001b[0;34m\u001b[0m\u001b[0;34m\u001b[0m\u001b[0m\n\u001b[0;32m----> 6\u001b[0;31m         \u001b[0;32mraise\u001b[0m \u001b[0mTypeError\u001b[0m\u001b[0;34m(\u001b[0m\u001b[0;34m'{}는 지원하지 않습니다.'\u001b[0m\u001b[0;34m.\u001b[0m\u001b[0mformat\u001b[0m\u001b[0;34m(\u001b[0m\u001b[0mtype\u001b[0m\u001b[0;34m(\u001b[0m\u001b[0mdata\u001b[0m\u001b[0;34m)\u001b[0m\u001b[0;34m)\u001b[0m\u001b[0;34m)\u001b[0m\u001b[0;34m\u001b[0m\u001b[0;34m\u001b[0m\u001b[0m\n\u001b[0m\u001b[1;32m      7\u001b[0m \u001b[0;34m\u001b[0m\u001b[0m\n\u001b[1;32m      8\u001b[0m     \u001b[0mself\u001b[0m\u001b[0;34m.\u001b[0m\u001b[0mdata\u001b[0m \u001b[0;34m=\u001b[0m \u001b[0mdata\u001b[0m\u001b[0;34m\u001b[0m\u001b[0;34m\u001b[0m\u001b[0m\n",
            "\u001b[0;31mTypeError\u001b[0m: <class 'float'>는 지원하지 않습니다."
          ]
        }
      ]
    },
    {
      "cell_type": "code",
      "metadata": {
        "colab": {
          "base_uri": "https://localhost:8080/"
        },
        "id": "wslz7-5Djo_y",
        "outputId": "0668f160-170a-4130-fbbb-8380f00fa8ea"
      },
      "source": [
        "x = np.array([1.0])\n",
        "y = x ** 2\n",
        "print(type(x), x.ndim) # <class 'numpy.ndarray'> 1\n",
        "print(type(y)) #<class 'numpy.ndarray'>\n",
        "\n",
        "x = np.array(1.0)\n",
        "y = x ** 2\n",
        "print(type(x), x.ndim) # <class 'numpy.ndarray'> 0\n",
        "print(type(y)) # numpy의 성질 때문에 0차원의 scalar를 제곱하면 numpy.float으로 변환됨.\n",
        "# 이럴경우, np.array로 다시 만들어 줄 함수 필요."
      ],
      "execution_count": 14,
      "outputs": [
        {
          "output_type": "stream",
          "name": "stdout",
          "text": [
            "<class 'numpy.ndarray'> 1\n",
            "<class 'numpy.ndarray'>\n",
            "<class 'numpy.ndarray'> 0\n",
            "<class 'numpy.float64'>\n"
          ]
        }
      ]
    },
    {
      "cell_type": "code",
      "metadata": {
        "id": "WJQk0S2Ql3TF"
      },
      "source": [
        "def as_array(x):\n",
        "  if np.isscalar(x):\n",
        "    # x가 np.float64 같은 scalar 타입인지 확인(일반 float도 확인됨)\n",
        "    return np.array(x)\n",
        "  return x"
      ],
      "execution_count": 15,
      "outputs": []
    },
    {
      "cell_type": "code",
      "metadata": {
        "id": "w-Wpmwfrn55Q"
      },
      "source": [
        "class Function:\n",
        "  def __call__(self, input):\n",
        "    x = input.data\n",
        "    y = self.forward(x)  \n",
        "    # y가 scalar인지 쉽게 확인할 수 있다!\n",
        "    # foward의 결과가 항상 ndarray 인스턴스가 되도록 보장!\n",
        "    output = Variable(as_array(y))\n",
        "    output.set_creator(self) \n",
        "    \n",
        "    self.input = input\n",
        "    self.output= output \n",
        "    return output\n",
        "\n",
        "  def forward(self, x):\n",
        "    raise NotImplementedError()\n",
        "\n",
        "  def backward(self, gy):\n",
        "    raise NotImplementedError()"
      ],
      "execution_count": 16,
      "outputs": []
    }
  ]
}