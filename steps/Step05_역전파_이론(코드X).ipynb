{
  "nbformat": 4,
  "nbformat_minor": 0,
  "metadata": {
    "colab": {
      "name": "Step05.ipynb",
      "provenance": []
    },
    "kernelspec": {
      "name": "python3",
      "display_name": "Python 3"
    },
    "language_info": {
      "name": "python"
    }
  },
  "cells": [
    {
      "cell_type": "markdown",
      "metadata": {
        "id": "iUvwLCRXvozi"
      },
      "source": [
        "# Step 5 역전파 이론\n",
        "## 5.1 연쇄 법칙\n",
        "## 5.2 역전파 원리 도출\n",
        "## 5.3 계산 그래프 살펴 보기\n",
        "**전부 내용 설명 밖에 없으므로 실행 코드는 없음!**"
      ]
    }
  ]
}