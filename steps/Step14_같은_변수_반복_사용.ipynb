{
  "nbformat": 4,
  "nbformat_minor": 0,
  "metadata": {
    "colab": {
      "name": "Step14_같은_변수_반복_사용.ipynb",
      "provenance": [],
      "collapsed_sections": []
    },
    "kernelspec": {
      "name": "python3",
      "display_name": "Python 3"
    },
    "language_info": {
      "name": "python"
    }
  },
  "cells": [
    {
      "cell_type": "markdown",
      "metadata": {
        "id": "ikTtU_Qm9YZr"
      },
      "source": [
        "#Step14 같은 변수 반복 사용\n",
        "### 현재 구현으로는 동일한 변수를 사용할 시, 동일한 변수라고 인식하지 못하여 제대로된 미분 값을 구할 수 없음."
      ]
    },
    {
      "cell_type": "code",
      "metadata": {
        "id": "EHs8HPdQ8uyS"
      },
      "source": [
        "import numpy as np\n",
        "\n",
        "class Variable:\n",
        "  def __init__(self, data):\n",
        "    self.data = data\n",
        "    self.grad = None\n",
        "    self.creator = None\n",
        "  \n",
        "  def set_creator(self, func):\n",
        "    self.creator = func\n",
        "\n",
        "  def backward(self):\n",
        "    '''\n",
        "      여러개의 입출력을 받을 수 있도록 준비.\n",
        "    '''\n",
        "    if self.grad is None:\n",
        "      self.grad = np.ones_like(self.data)\n",
        "\n",
        "    funcs = [self.creator]     \n",
        "    while funcs :              \n",
        "      f = funcs.pop()          \n",
        "      gys = [output.grad for output in f.outputs] # output의 grad 가져옴\n",
        "      gxs = f.backward(*gys)                      # gxs를 구함\n",
        "      if not isinstance(gxs, tuple):\n",
        "        gxs = (gxs, )\n",
        "\n",
        "      for x, gx in zip(f.inputs, gxs):            # 구한 역전파를 각 x.grad에 저장\n",
        "        if x.grad is None:                        # 같은 변수일 경우에는 덮어쓰지 말고 더해주자!\n",
        "          x.grad = gx\n",
        "        else:\n",
        "          x.grad = x.grad + gx\n",
        "\n",
        "        if x.creator is not None:                 # 계속해서 역전파 수행\n",
        "          funcs.append(x.creator) \n",
        "\n",
        "class Function:\n",
        "  '''\n",
        "    가변 길이로 받은 inputs들을 unpack하고, 출력이 tuple 형태가 아닐 경우엔 추가 지원\n",
        "  '''\n",
        "  def __call__(self, *inputs):\n",
        "    xs = [x.data for x in inputs]\n",
        "    ys = self.forward(*xs) # 언팩\n",
        "    if not isinstance(ys, tuple): # tuple 형태가 아닐 경우 추가 지원\n",
        "      ys = (ys,)\n",
        "    outputs = [Variable(as_array(y)) for y in ys]\n",
        "    \n",
        "    for output in outputs:\n",
        "      output.set_creator(self) \n",
        "    \n",
        "    self.inputs = inputs\n",
        "    self.outputs= outputs \n",
        "    return outputs if len(outputs) > 1 else outputs[0]\n",
        "\n",
        "  def forward(self, x):\n",
        "    raise NotImplementedError()\n",
        "\n",
        "  def backward(self, gy):\n",
        "    raise NotImplementedError()\n",
        "\n",
        "def as_array(x):\n",
        "  if np.isscalar(x):\n",
        "    # x가 np.float64 같은 scalar 타입인지 확인(일반 float도 확인됨)\n",
        "    return np.array(x)\n",
        "  return x"
      ],
      "execution_count": 5,
      "outputs": []
    },
    {
      "cell_type": "code",
      "metadata": {
        "id": "z_E-4-iH9ukd"
      },
      "source": [
        "class Add(Function):\n",
        "  def forward(self, x0, x1):\n",
        "    y = x0 + x1\n",
        "    return y\n",
        "\n",
        "  def backward(self, gy):\n",
        "    '''\n",
        "      backward 부분 추가\n",
        "    '''\n",
        "    return gy, gy\n",
        "\n",
        "def add(x0, x1):\n",
        "  return Add()(x0, x1)"
      ],
      "execution_count": 6,
      "outputs": []
    },
    {
      "cell_type": "code",
      "metadata": {
        "colab": {
          "base_uri": "https://localhost:8080/"
        },
        "id": "zRqXpCOf-tst",
        "outputId": "dc33344d-b7b0-4375-bafb-999ad56fa4bc"
      },
      "source": [
        "x = Variable(np.array(3.0))\n",
        "y = add(add(x, x), x)\n",
        "y.backward()\n",
        "print(x.grad)"
      ],
      "execution_count": 7,
      "outputs": [
        {
          "output_type": "stream",
          "name": "stdout",
          "text": [
            "3.0\n"
          ]
        }
      ]
    },
    {
      "cell_type": "markdown",
      "metadata": {
        "id": "LCXweLfZ_CFO"
      },
      "source": [
        "## 미분값 재설정\n",
        "#### 같은 변수를 사용하여 '다른' 계산을 할 경우, 앞의 구현으로 인하여 계산이 꼬일 수 있음"
      ]
    },
    {
      "cell_type": "code",
      "metadata": {
        "colab": {
          "base_uri": "https://localhost:8080/"
        },
        "id": "dBk2Jijc-0hB",
        "outputId": "a39d7427-e120-4492-d873-09651e360687"
      },
      "source": [
        "# 첫번째 계산\n",
        "x = Variable(np.array(3.0))\n",
        "y = add(x, x)\n",
        "y.backward()\n",
        "print(x.grad) # 3\n",
        "\n",
        "# 두번째 계산(같은 x를 사용하여 다른 계산을 수행)\n",
        "y = add(add(x, x), x)\n",
        "y.backward()\n",
        "print(x.grad) # 5 -> '3'이 나와야하는데, 첫 번째 연산과 같은 변수의 사용으로, 미분 값이 중첩되어버림"
      ],
      "execution_count": 8,
      "outputs": [
        {
          "output_type": "stream",
          "name": "stdout",
          "text": [
            "2.0\n",
            "5.0\n"
          ]
        }
      ]
    },
    {
      "cell_type": "code",
      "metadata": {
        "id": "Kq3DCYNr_i8J"
      },
      "source": [
        "class Variable:\n",
        "  def __init__(self, data):\n",
        "    self.data = data\n",
        "    self.grad = None\n",
        "    self.creator = None\n",
        "  \n",
        "  def set_creator(self, func):\n",
        "    self.creator = func\n",
        "\n",
        "  def backward(self):\n",
        "    '''\n",
        "      여러개의 입출력을 받을 수 있도록 준비.\n",
        "    '''\n",
        "    if self.grad is None:\n",
        "      self.grad = np.ones_like(self.data)\n",
        "\n",
        "    funcs = [self.creator]     \n",
        "    while funcs :              \n",
        "      f = funcs.pop()          \n",
        "      gys = [output.grad for output in f.outputs] # output의 grad 가져옴\n",
        "      gxs = f.backward(*gys)                      # gxs를 구함\n",
        "      if not isinstance(gxs, tuple):\n",
        "        gxs = (gxs, )\n",
        "\n",
        "      for x, gx in zip(f.inputs, gxs):            # 구한 역전파를 각 x.grad에 저장\n",
        "        if x.grad is None:                        # 같은 변수일 경우에는 덮어쓰지 말고 더해주자!\n",
        "          x.grad = gx\n",
        "        else:\n",
        "          x.grad = x.grad + gx\n",
        "\n",
        "        if x.creator is not None:                 # 계속해서 역전파 수행\n",
        "          funcs.append(x.creator) \n",
        "  \n",
        "  def cleargrad(self):\n",
        "    '''Variable class의 미분값을 초기화 해줌\n",
        "    '''\n",
        "    self.grad = None"
      ],
      "execution_count": 9,
      "outputs": []
    },
    {
      "cell_type": "code",
      "metadata": {
        "colab": {
          "base_uri": "https://localhost:8080/"
        },
        "id": "l5j9u7blAF1y",
        "outputId": "b2b750d2-3fa5-4f6a-9196-fb00997c1106"
      },
      "source": [
        "# 첫번째 계산\n",
        "x = Variable(np.array(3.0))\n",
        "y = add(x, x)\n",
        "y.backward()\n",
        "print(x.grad) # 3\n",
        "\n",
        "# 두번째 계산(같은 x를 사용하여 다른 계산을 수행)\n",
        "x.cleargrad()\n",
        "y = add(add(x, x), x)\n",
        "y.backward()\n",
        "print(x.grad) # 3 -> x.cleargrad()로 인하여 x의 grad가 None으로 초기화 됨"
      ],
      "execution_count": 10,
      "outputs": [
        {
          "output_type": "stream",
          "name": "stdout",
          "text": [
            "2.0\n",
            "3.0\n"
          ]
        }
      ]
    }
  ]
}