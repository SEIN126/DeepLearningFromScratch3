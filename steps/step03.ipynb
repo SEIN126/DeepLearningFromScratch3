{
  "nbformat": 4,
  "nbformat_minor": 0,
  "metadata": {
    "colab": {
      "name": "step03.ipynb",
      "provenance": []
    },
    "kernelspec": {
      "name": "python3",
      "display_name": "Python 3"
    },
    "language_info": {
      "name": "python"
    }
  },
  "cells": [
    {
      "cell_type": "markdown",
      "metadata": {
        "id": "ZYGTqxtLRj3j"
      },
      "source": [
        "# Step 3\n",
        "## 3.1 Exp 함수 구현"
      ]
    },
    {
      "cell_type": "code",
      "metadata": {
        "id": "YAYjAAd9Rh4E"
      },
      "source": [
        "import numpy as np\n",
        "\n",
        "class Variable:\n",
        "    def __init__(self, data):\n",
        "        self.data = data\n",
        "\n",
        "class Function:\n",
        "    '''\n",
        "      - 공통 된 기능만 가지고 있음\n",
        "    '''\n",
        "    def __call__(self, input):\n",
        "        x = input.data\n",
        "        y = self.forward(x)  # 구체적인 계산은 forward method에서 함.\n",
        "        output = Variable(y)\n",
        "        return output\n",
        "\n",
        "    def forward(self, x):\n",
        "        '''\n",
        "        - 이 메소드는 상속하여 구현해야 한다\n",
        "        '''\n",
        "        raise NotImplementedError()\n",
        "\n",
        "class Square(Function):\n",
        "  def forward(self, x):\n",
        "    return x ** 2"
      ],
      "execution_count": 4,
      "outputs": []
    },
    {
      "cell_type": "code",
      "metadata": {
        "id": "nsKWhrfiR7K4"
      },
      "source": [
        "class Exp(Function):\n",
        "  def forward(self, x):\n",
        "    return np.exp(x)"
      ],
      "execution_count": 2,
      "outputs": []
    },
    {
      "cell_type": "markdown",
      "metadata": {
        "id": "tMjmvmssSE8P"
      },
      "source": [
        "## 3.2 함수 연결"
      ]
    },
    {
      "cell_type": "code",
      "metadata": {
        "colab": {
          "base_uri": "https://localhost:8080/"
        },
        "id": "AwgicRi4SCWS",
        "outputId": "040cdaf6-cd92-4fe8-bfc2-575349480955"
      },
      "source": [
        "A = Square()\n",
        "B = Exp()\n",
        "C = Square()\n",
        "\n",
        "x = Variable(np.array(0.5))\n",
        "# Function을 상속받은 클래스들은 출력으로 Variable을 뱉기 때문에, 함수를 연속해서 사용가능하다.\n",
        "a = A(x)\n",
        "b = B(a)\n",
        "y = C(b)\n",
        "print(y.data) # 1.648721270700128"
      ],
      "execution_count": 6,
      "outputs": [
        {
          "output_type": "stream",
          "name": "stdout",
          "text": [
            "1.648721270700128\n"
          ]
        }
      ]
    }
  ]
}