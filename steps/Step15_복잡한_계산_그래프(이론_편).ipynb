{
  "nbformat": 4,
  "nbformat_minor": 0,
  "metadata": {
    "colab": {
      "name": "Step15_복잡한_계산_그래프(이론_편).ipynb",
      "provenance": [],
      "collapsed_sections": []
    },
    "kernelspec": {
      "name": "python3",
      "display_name": "Python 3"
    },
    "language_info": {
      "name": "python"
    }
  },
  "cells": [
    {
      "cell_type": "markdown",
      "metadata": {
        "id": "VGw1bVuXLuUT"
      },
      "source": [
        "#Step15 복잡한 계산 그래프(이론 편)\n",
        "##15.1 역전파의 올바른 순서\n",
        "현재의 구현으로는 복잡한 계산 그래프를 제대로 처리할 수 없음\n",
        "-> 역전파시, gradient가 계산되는 순서가 직선적임.\n",
        "-> gradient가 계산되는 순서를 explicit하게 표시해줄 방안이 필요\n",
        "-> '세대'를 나눠보자"
      ]
    },
    {
      "cell_type": "code",
      "metadata": {
        "id": "-Ec53SaZKBp0"
      },
      "source": [
        ""
      ],
      "execution_count": null,
      "outputs": []
    }
  ]
}