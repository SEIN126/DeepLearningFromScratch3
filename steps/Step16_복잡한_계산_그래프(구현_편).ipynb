{
  "nbformat": 4,
  "nbformat_minor": 0,
  "metadata": {
    "colab": {
      "name": "Step16_복잡한_계산_그래프(구현 편).ipynb",
      "provenance": [],
      "collapsed_sections": []
    },
    "kernelspec": {
      "name": "python3",
      "display_name": "Python 3"
    },
    "language_info": {
      "name": "python"
    }
  },
  "cells": [
    {
      "cell_type": "markdown",
      "metadata": {
        "id": "_1Fxj7b4PZhs"
      },
      "source": [
        "#Step16 복잡한 계산 그래프(구현 편)\n",
        "##16.1 세대 추가"
      ]
    },
    {
      "cell_type": "code",
      "metadata": {
        "id": "tcRmOEojPUxt"
      },
      "source": [
        "import numpy as np\n",
        "\n",
        "class Variable():\n",
        "  def __init__(self, data):\n",
        "    if data is not None:\n",
        "      if not isinstance(data, np.ndarray):\n",
        "        raise TypeError('{}은(는) 지원하지 않습니다.'.format(type(data)))\n",
        "\n",
        "    self.data = data\n",
        "    self.grad = None\n",
        "    self.creator = None\n",
        "    self.generation = 0 # 세대 수를 기록하는 변수 추가\n",
        "\n",
        "  def set_creator(self, func):\n",
        "    self.creator = func\n",
        "    self.generation = func.generation + 1 # 세대를 기록(부모 세대 + 1)\n",
        "\n",
        "  def backward(self):\n",
        "    '''\n",
        "      여러개의 입출력을 받을 수 있도록 준비.\n",
        "    '''\n",
        "    if self.grad is None:\n",
        "      self.grad = np.ones_like(self.data)\n",
        "\n",
        "    funcs = [self.creator]     \n",
        "    while funcs :              \n",
        "      f = funcs.pop()          \n",
        "      gys = [output.grad for output in f.outputs] # output의 grad 가져옴\n",
        "      gxs = f.backward(*gys)                      # gxs를 구함\n",
        "      if not isinstance(gxs, tuple):\n",
        "        gxs = (gxs, )\n",
        "\n",
        "      for x, gx in zip(f.inputs, gxs):            # 구한 역전파를 각 x.grad에 저장\n",
        "        if x.grad is None:                        # 같은 변수일 경우에는 덮어쓰지 말고 더해주자!\n",
        "          x.grad = gx\n",
        "        else:\n",
        "          x.grad = x.grad + gx\n",
        "\n",
        "        if x.creator is not None:                 # 계속해서 역전파 수행\n",
        "          funcs.append(x.creator) \n"
      ],
      "execution_count": 1,
      "outputs": []
    },
    {
      "cell_type": "code",
      "metadata": {
        "id": "CHHk6wu1Q-Fe"
      },
      "source": [
        "class Function:\n",
        "  def __call__(self, *inputs):\n",
        "    xs = [x.data for x in inputs]\n",
        "    ys = self.forward(*xs) # 언팩\n",
        "    if not isinstance(ys, tuple): # tuple 형태가 아닐 경우 추가 지원\n",
        "      ys = (ys,)\n",
        "    outputs = [Variable(as_array(y)) for y in ys]\n",
        "    self.generation = max([x.generation for x in inputs])\n",
        "\n",
        "    for output in outputs:\n",
        "      output.set_creator(self) \n",
        "    \n",
        "    self.inputs = inputs\n",
        "    self.outputs= outputs \n",
        "    return outputs if len(outputs) > 1 else outputs[0]\n",
        "\n",
        "  def forward(self, x):\n",
        "    raise NotImplementedError()\n",
        "\n",
        "  def backward(self, gy):\n",
        "    raise NotImplementedError()\n",
        "\n",
        "def as_array(x):\n",
        "  if np.isscalar(x):\n",
        "    # x가 np.float64 같은 scalar 타입인지 확인(일반 float도 확인됨)\n",
        "    return np.array(x)\n",
        "  return x"
      ],
      "execution_count": 2,
      "outputs": []
    },
    {
      "cell_type": "markdown",
      "metadata": {
        "id": "N5gy3zhdRPrl"
      },
      "source": [
        "##16.2 세대 순으로 꺼내기"
      ]
    },
    {
      "cell_type": "code",
      "metadata": {
        "colab": {
          "base_uri": "https://localhost:8080/"
        },
        "id": "ZjbSovEwRN1K",
        "outputId": "522a69d7-c3fe-4eb1-95d4-0813de96aec3"
      },
      "source": [
        "generations = [2, 0, 1, 4, 2]\n",
        "funcs = []\n",
        "\n",
        "for g in generations:\n",
        "  f = Function() # 더미 함수 클래스\n",
        "  f.generation = g\n",
        "  funcs.append(f)\n",
        "\n",
        "[f.generation for f in funcs]"
      ],
      "execution_count": 4,
      "outputs": [
        {
          "output_type": "execute_result",
          "data": {
            "text/plain": [
              "[2, 0, 1, 4, 2]"
            ]
          },
          "metadata": {},
          "execution_count": 4
        }
      ]
    },
    {
      "cell_type": "code",
      "metadata": {
        "colab": {
          "base_uri": "https://localhost:8080/"
        },
        "id": "Lx7d0BCURyb9",
        "outputId": "e7bbdc04-e7d6-4eb4-86bc-6e5b241d4a7d"
      },
      "source": [
        "funcs.sort(key=lambda x: x.generation) # 리스트 정렬\n",
        "[f.generation for f in funcs]"
      ],
      "execution_count": 5,
      "outputs": [
        {
          "output_type": "execute_result",
          "data": {
            "text/plain": [
              "[0, 1, 2, 2, 4]"
            ]
          },
          "metadata": {},
          "execution_count": 5
        }
      ]
    },
    {
      "cell_type": "code",
      "metadata": {
        "colab": {
          "base_uri": "https://localhost:8080/"
        },
        "id": "EOSCaEbTSG30",
        "outputId": "26080bf8-1ce5-4ff7-f7d5-4a4d237a0310"
      },
      "source": [
        "f = funcs.pop()\n",
        "f.generation"
      ],
      "execution_count": 6,
      "outputs": [
        {
          "output_type": "execute_result",
          "data": {
            "text/plain": [
              "4"
            ]
          },
          "metadata": {},
          "execution_count": 6
        }
      ]
    },
    {
      "cell_type": "markdown",
      "metadata": {
        "id": "cVbHtHfDST94"
      },
      "source": [
        "##16.3 Variable 클래스의 backward"
      ]
    },
    {
      "cell_type": "code",
      "metadata": {
        "id": "bWmOZs8rSKy0"
      },
      "source": [
        "import numpy as np\n",
        "\n",
        "class Variable():\n",
        "  def __init__(self, data):\n",
        "    if data is not None:\n",
        "      if not isinstance(data, np.ndarray):\n",
        "        raise TypeError('{}은(는) 지원하지 않습니다.'.format(type(data)))\n",
        "\n",
        "    self.data = data\n",
        "    self.grad = None\n",
        "    self.creator = None\n",
        "    self.generation = 0 # 세대 수를 기록하는 변수 추가\n",
        "\n",
        "  def set_creator(self, func):\n",
        "    self.creator = func\n",
        "    self.generation = func.generation + 1 # 세대를 기록(부모 세대 + 1)\n",
        "\n",
        "  def backward(self):\n",
        "    '''\n",
        "      여러개의 입출력을 받을 수 있도록 준비.\n",
        "    '''\n",
        "    if self.grad is None:\n",
        "      self.grad = np.ones_like(self.data)\n",
        "\n",
        "    funcs = []\n",
        "    seen_set = set()\n",
        "\n",
        "    def add_func(f):\n",
        "      if f not in seen_set:     # 같은 함수가 중복 추가 되는 것을 방지\n",
        "                                # -> 두 elements가 같은 creator를 가지는 경우!\n",
        "        funcs.append(f)\n",
        "        seen_set.add(f)         \n",
        "        funcs.sort(key=lambda x: x.generation)\n",
        "\n",
        "    add_func(self.creator)\n",
        "     \n",
        "    while funcs :              \n",
        "      f = funcs.pop()          \n",
        "      gys = [output.grad for output in f.outputs] # output의 grad 가져옴\n",
        "      gxs = f.backward(*gys)                      # gxs를 구함\n",
        "      if not isinstance(gxs, tuple):\n",
        "        gxs = (gxs, )\n",
        "\n",
        "      for x, gx in zip(f.inputs, gxs):            # 구한 역전파를 각 x.grad에 저장\n",
        "        if x.grad is None:                        # 같은 변수일 경우에는 덮어쓰지 말고 더해주자!\n",
        "          x.grad = gx\n",
        "        else:\n",
        "          x.grad = x.grad + gx\n",
        "\n",
        "        if x.creator is not None:                 # 계속해서 역전파 수행\n",
        "          add_func(x.creator)                     # x.creator 추가\n"
      ],
      "execution_count": 7,
      "outputs": []
    },
    {
      "cell_type": "markdown",
      "metadata": {
        "id": "LOrFTmr2TqJh"
      },
      "source": [
        "##16.4 동작 확인"
      ]
    },
    {
      "cell_type": "code",
      "metadata": {
        "id": "pdLnfCNoULQ6"
      },
      "source": [
        "def as_array(x):\n",
        "  if np.isscalar(x):\n",
        "    # x가 np.float64 같은 scalar 타입인지 확인(일반 float도 확인됨)\n",
        "    return np.array(x)\n",
        "  return x\n",
        "\n",
        "class Add(Function):\n",
        "  def forward(self, x0, x1):\n",
        "    y = x0 + x1\n",
        "    return y\n",
        "\n",
        "  def backward(self, gy):\n",
        "    '''\n",
        "      backward 부분 추가\n",
        "    '''\n",
        "    return gy, gy\n",
        "\n",
        "def add(x0, x1):\n",
        "  return Add()(x0, x1)\n",
        "\n",
        "class Square(Function):\n",
        "  def forward(self, x):\n",
        "    y = x ** 2\n",
        "    return y\n",
        "\n",
        "  def backward(self, gy):\n",
        "    x = self.inputs[0].data # Function 함수에서 inputs (튜플)로 받기 때문에 input-> inputs[0]으로 바꿔줌\n",
        "    gx = 2 * x * gy\n",
        "    return gx\n",
        "\n",
        "def square(x):\n",
        "  return Square()(x)"
      ],
      "execution_count": 8,
      "outputs": []
    },
    {
      "cell_type": "code",
      "metadata": {
        "colab": {
          "base_uri": "https://localhost:8080/"
        },
        "id": "gGUheUrtTpDd",
        "outputId": "9cc5d934-9a7e-4386-dc19-48992b6ddf67"
      },
      "source": [
        "x = Variable(np.array(2.0))\n",
        "a = square(x)\n",
        "y = add(square(a), square(a))\n",
        "y.backward()\n",
        "\n",
        "print(y.data)\n",
        "print(x.grad)"
      ],
      "execution_count": 9,
      "outputs": [
        {
          "output_type": "stream",
          "name": "stdout",
          "text": [
            "32.0\n",
            "64.0\n"
          ]
        }
      ]
    }
  ]
}