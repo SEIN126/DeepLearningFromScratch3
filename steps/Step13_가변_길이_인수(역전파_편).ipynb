{
  "nbformat": 4,
  "nbformat_minor": 0,
  "metadata": {
    "colab": {
      "name": "Stpe13_가변_길이_인수(역전파 편).ipynb",
      "provenance": []
    },
    "kernelspec": {
      "name": "python3",
      "display_name": "Python 3"
    },
    "language_info": {
      "name": "python"
    }
  },
  "cells": [
    {
      "cell_type": "markdown",
      "metadata": {
        "id": "lgD9-NW5BXpV"
      },
      "source": [
        "# Step13 가변 길이 인수(역전파 편)\n",
        "## 13.1 가변 길이 인수에 대응한 Add 클래스의 역전파"
      ]
    },
    {
      "cell_type": "code",
      "metadata": {
        "id": "WaLoDP50ADaP"
      },
      "source": [
        "import numpy as np\n",
        "\n",
        "class Variable:\n",
        "  def __init__(self, data):\n",
        "    self.data = data\n",
        "    self.grad = None\n",
        "    self.creator = None\n",
        "  \n",
        "  def set_creator(self, func):\n",
        "    self.creator = func\n",
        "\n",
        "  def backward(self):\n",
        "    funcs = [self.creator]     \n",
        "    while funcs :              \n",
        "      f = funcs.pop()          \n",
        "      x, y = f.input, f.output \n",
        "      x.grad = f.backward(y.grad)\n",
        "\n",
        "      if x.creator is not None:\n",
        "        funcs.append(x.creator) \n",
        "\n",
        "def as_array(x):\n",
        "  if np.isscalar(x):\n",
        "    # x가 np.float64 같은 scalar 타입인지 확인(일반 float도 확인됨)\n",
        "    return np.array(x)\n",
        "  return x"
      ],
      "execution_count": 1,
      "outputs": []
    },
    {
      "cell_type": "code",
      "metadata": {
        "id": "FJl_j_8gBjYz"
      },
      "source": [
        "class Function:\n",
        "  '''\n",
        "    가변 길이로 받은 inputs들을 unpack하고, 출력이 tuple 형태가 아닐 경우엔 추가 지원\n",
        "  '''\n",
        "  def __call__(self, *inputs):\n",
        "    xs = [x.data for x in inputs]\n",
        "    ys = self.forward(*xs) # 언팩\n",
        "    if not isinstance(ys, tuple): # tuple 형태가 아닐 경우 추가 지원\n",
        "      ys = (ys,)\n",
        "    outputs = [Variable(as_array(y)) for y in ys]\n",
        "    \n",
        "    for output in outputs:\n",
        "      output.set_creator(self) \n",
        "    \n",
        "    self.inputs = inputs\n",
        "    self.outputs= outputs \n",
        "    return outputs if len(outputs) > 1 else outputs[0]\n",
        "\n",
        "  def forward(self, x):\n",
        "    raise NotImplementedError()\n",
        "\n",
        "  def backward(self, gy):\n",
        "    raise NotImplementedError()\n",
        "\n",
        "class Add(Function):\n",
        "  '''\n",
        "    사용하기 쉬운 직관적 형태로 변환!\n",
        "  '''\n",
        "  def forward(self, x0, x1):\n",
        "    y = x0 + x1\n",
        "    return y "
      ],
      "execution_count": 13,
      "outputs": []
    },
    {
      "cell_type": "code",
      "metadata": {
        "id": "UnBPQvG2BokC"
      },
      "source": [
        "class Add(Function):\n",
        "  def forward(self, x0, x1):\n",
        "    y = x0 + x1\n",
        "    return y\n",
        "\n",
        "  def backward(self, gy):\n",
        "    '''\n",
        "      backward 부분 추가\n",
        "    '''\n",
        "    return gy, gy\n",
        "\n",
        "def add(x0, x1):\n",
        "  return Add()(x0, x1)"
      ],
      "execution_count": 14,
      "outputs": []
    },
    {
      "cell_type": "code",
      "metadata": {
        "id": "DDfOnTkICC4C"
      },
      "source": [
        "import numpy as np\n",
        "\n",
        "class Variable:\n",
        "  def __init__(self, data):\n",
        "    self.data = data\n",
        "    self.grad = None\n",
        "    self.creator = None\n",
        "  \n",
        "  def set_creator(self, func):\n",
        "    self.creator = func\n",
        "\n",
        "  def backward(self):\n",
        "    '''\n",
        "      여러개의 입출력을 받을 수 있도록 준비.\n",
        "    '''\n",
        "    if self.grad is None:\n",
        "      self.grad = np.ones_like(self.data)\n",
        "\n",
        "    funcs = [self.creator]     \n",
        "    while funcs :              \n",
        "      f = funcs.pop()          \n",
        "      gys = [output.grad for output in f.outputs] # output의 grad 가져옴\n",
        "      gxs = f.backward(*gys)                      # gxs를 구함\n",
        "      if not isinstance(gxs, tuple):\n",
        "        gxs = (gxs, )\n",
        "\n",
        "      for x, gx in zip(f.inputs, gxs):            # 구한 역전파를 각 x.grad에 저장\n",
        "        x.grad = gx\n",
        "\n",
        "        if x.creator is not None:                 # 계속해서 역전파 수행\n",
        "          funcs.append(x.creator) "
      ],
      "execution_count": 15,
      "outputs": []
    },
    {
      "cell_type": "code",
      "metadata": {
        "id": "tqNQMk_bFu4v"
      },
      "source": [
        "class Square(Function):\n",
        "  def forward(self, x):\n",
        "    y = x ** 2\n",
        "    return y\n",
        "\n",
        "  def backward(self, gy):\n",
        "    x = self.inputs[0].data # Function 함수에서 inputs (튜플)로 받기 때문에 input-> inputs[0]으로 바꿔줌\n",
        "    gx = 2 * x * gy\n",
        "    return gx\n",
        "\n",
        "def square(x):\n",
        "  return Square()(x)"
      ],
      "execution_count": 16,
      "outputs": []
    },
    {
      "cell_type": "code",
      "metadata": {
        "colab": {
          "base_uri": "https://localhost:8080/"
        },
        "id": "0e1pybYuGw1Q",
        "outputId": "7956d661-81de-45a3-a037-6a672e5cc97c"
      },
      "source": [
        "x = Variable(np.array(2.0))\n",
        "y = Variable(np.array(3.0))\n",
        "\n",
        "z = add(square(x), square(y))\n",
        "z.backward()\n",
        "print(z.data)\n",
        "print(x.grad)\n",
        "print(y.grad)"
      ],
      "execution_count": 17,
      "outputs": [
        {
          "output_type": "stream",
          "name": "stdout",
          "text": [
            "13.0\n",
            "4.0\n",
            "6.0\n"
          ]
        }
      ]
    }
  ]
}