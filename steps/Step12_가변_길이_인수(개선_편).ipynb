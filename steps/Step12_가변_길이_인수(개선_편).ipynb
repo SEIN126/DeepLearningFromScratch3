{
  "nbformat": 4,
  "nbformat_minor": 0,
  "metadata": {
    "colab": {
      "name": "Step12_가변_길이_인수(개선_편).ipynb",
      "provenance": [],
      "collapsed_sections": []
    },
    "kernelspec": {
      "name": "python3",
      "display_name": "Python 3"
    },
    "language_info": {
      "name": "python"
    }
  },
  "cells": [
    {
      "cell_type": "markdown",
      "metadata": {
        "id": "J9PgM0TA9MF0"
      },
      "source": [
        "# Step12 가변 길이 인수(개선편)\n",
        "## 첫번째 개선 : 함수를 사용하게 쉽게"
      ]
    },
    {
      "cell_type": "code",
      "metadata": {
        "id": "CmiNvfiz8UAw"
      },
      "source": [
        "import numpy as np\n",
        "\n",
        "class Variable:\n",
        "  def __init__(self, data):\n",
        "    self.data = data\n",
        "    self.grad = None\n",
        "    self.creator = None\n",
        "  \n",
        "  def set_creator(self, func):\n",
        "    self.creator = func\n",
        "\n",
        "  def backward(self):\n",
        "    funcs = [self.creator]     \n",
        "    while funcs :              \n",
        "      f = funcs.pop()          \n",
        "      x, y = f.input, f.output \n",
        "      x.grad = f.backward(y.grad)\n",
        "\n",
        "      if x.creator is not None:\n",
        "        funcs.append(x.creator) \n",
        "\n",
        "def as_array(x):\n",
        "  if np.isscalar(x):\n",
        "    # x가 np.float64 같은 scalar 타입인지 확인(일반 float도 확인됨)\n",
        "    return np.array(x)\n",
        "  return x"
      ],
      "execution_count": 1,
      "outputs": []
    },
    {
      "cell_type": "code",
      "metadata": {
        "id": "RjgiMw7e8wpV"
      },
      "source": [
        "class Function:\n",
        "  '''\n",
        "    Function의 입력을 list말고, 가변길이 그 자체로 받아보자 : *args(가변길이 인수)\n",
        "  '''\n",
        "  def __call__(self, *inputs):\n",
        "    xs = [x.data for x in inputs]\n",
        "    ys = self.forward(xs)\n",
        "    outputs = [Variable(as_array(y)) for y in ys]\n",
        "    \n",
        "    for output in outputs:\n",
        "      output.set_creator(self) \n",
        "    \n",
        "    self.inputs = inputs\n",
        "    self.outputs= outputs \n",
        "    return outputs if len(outputs) > 1 else outputs[0]\n",
        "\n",
        "  def forward(self, x):\n",
        "    raise NotImplementedError()\n",
        "\n",
        "  def backward(self, gy):\n",
        "    raise NotImplementedError()"
      ],
      "execution_count": 5,
      "outputs": []
    },
    {
      "cell_type": "code",
      "metadata": {
        "id": "0DE3aGPy91q1"
      },
      "source": [
        "class Add(Function):\n",
        "  def forward(self, xs):\n",
        "    x0, x1 = xs\n",
        "    y = x0 + x1\n",
        "    return (y,) # tuple 형태로 반환"
      ],
      "execution_count": 6,
      "outputs": []
    },
    {
      "cell_type": "code",
      "metadata": {
        "colab": {
          "base_uri": "https://localhost:8080/"
        },
        "id": "sq8yMR8Y9mCn",
        "outputId": "f580d2b8-b434-4d0c-e06a-6e08686c5ffe"
      },
      "source": [
        "x0 = Variable(np.array(2))\n",
        "x1 = Variable(np.array(3))\n",
        "f = Add()\n",
        "y = f(x0, x1)\n",
        "print(y.data)"
      ],
      "execution_count": 9,
      "outputs": [
        {
          "output_type": "stream",
          "name": "stdout",
          "text": [
            "5\n"
          ]
        }
      ]
    },
    {
      "cell_type": "markdown",
      "metadata": {
        "id": "ksvbCKPM-Fj_"
      },
      "source": [
        "##12.2 두 번째 개선: 함수를 구현하기 쉽도록"
      ]
    },
    {
      "cell_type": "code",
      "metadata": {
        "id": "zVnKWqWB9wtA"
      },
      "source": [
        "class Function:\n",
        "  '''\n",
        "    가변 길이로 받은 inputs들을 unpack하고, 출력이 tuple 형태가 아닐 경우엔 추가 지원\n",
        "  '''\n",
        "  def __call__(self, *inputs):\n",
        "    xs = [x.data for x in inputs]\n",
        "    ys = self.forward(*xs) # 언팩\n",
        "    if not isinstance(ys, tuple): # tuple 형태가 아닐 경우 추가 지원\n",
        "      ys = (ys,)\n",
        "    outputs = [Variable(as_array(y)) for y in ys]\n",
        "    \n",
        "    for output in outputs:\n",
        "      output.set_creator(self) \n",
        "    \n",
        "    self.input = input\n",
        "    self.output= output \n",
        "    return outputs if len(outputs) > 1 else outputs[0]\n",
        "\n",
        "  def forward(self, x):\n",
        "    raise NotImplementedError()\n",
        "\n",
        "  def backward(self, gy):\n",
        "    raise NotImplementedError()\n",
        "\n",
        "class Add(Function):\n",
        "  '''\n",
        "    사용하기 쉬운 직관적 형태로 변환!\n",
        "  '''\n",
        "  def forward(self, x0, x1):\n",
        "    y = x0 + x1\n",
        "    return y "
      ],
      "execution_count": 10,
      "outputs": []
    },
    {
      "cell_type": "markdown",
      "metadata": {
        "id": "5j3K66Xw_TPm"
      },
      "source": [
        "##12.3 add 함수 구현"
      ]
    },
    {
      "cell_type": "code",
      "metadata": {
        "id": "cqFnrY0W_Srw"
      },
      "source": [
        "def add(x0, x1):\n",
        "  return Add()(x0, x1)"
      ],
      "execution_count": 11,
      "outputs": []
    },
    {
      "cell_type": "code",
      "metadata": {
        "colab": {
          "base_uri": "https://localhost:8080/"
        },
        "id": "g_j6yyo__baT",
        "outputId": "65c4a27e-54e8-47f0-a934-b4ededbe7c1f"
      },
      "source": [
        "x0 = Variable(np.array(2))\n",
        "x1 = Variable(np.array(3))\n",
        "y = add(x0, x1)\n",
        "print(y.data)"
      ],
      "execution_count": 12,
      "outputs": [
        {
          "output_type": "stream",
          "name": "stdout",
          "text": [
            "5\n"
          ]
        }
      ]
    },
    {
      "cell_type": "code",
      "metadata": {
        "id": "QQ9nB123_ibm"
      },
      "source": [
        ""
      ],
      "execution_count": null,
      "outputs": []
    }
  ]
}