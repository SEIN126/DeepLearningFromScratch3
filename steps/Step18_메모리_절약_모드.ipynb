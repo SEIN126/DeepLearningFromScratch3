{
  "nbformat": 4,
  "nbformat_minor": 0,
  "metadata": {
    "colab": {
      "name": "Step18_메모리_절약_모드.ipynb",
      "provenance": [],
      "collapsed_sections": []
    },
    "kernelspec": {
      "name": "python3",
      "display_name": "Python 3"
    },
    "language_info": {
      "name": "python"
    }
  },
  "cells": [
    {
      "cell_type": "markdown",
      "metadata": {
        "id": "XcmbngtMjeaS"
      },
      "source": [
        "#Step18 메모리 절약 모드\n",
        "1. 역전파 시 사용하는 메모리양을 줄이는 방법 -> 불필요한 미분 결과를 보관하지 않고 즉시 삭제\n",
        "2. '역전파가 필요 없는 경우용 모드'를 제공\n",
        "\n"
      ]
    },
    {
      "cell_type": "markdown",
      "metadata": {
        "id": "DyzS5tWZj2Gq"
      },
      "source": [
        "##18.1 필요 없는 미분값 삭제"
      ]
    },
    {
      "cell_type": "code",
      "metadata": {
        "colab": {
          "base_uri": "https://localhost:8080/",
          "height": 71
        },
        "id": "LZJkwCfckC97",
        "outputId": "9fc1817a-43eb-4d80-f2ed-123f01677a47"
      },
      "source": [
        "import numpy as np\n",
        "import weakref\n",
        "\n",
        "class Variable:\n",
        "  def __init__(self, data):\n",
        "    if data is not None:\n",
        "      if not isinstance(data, np.ndarray):\n",
        "        raise TypeError('{}은(는) 지원하지 않습니다.'.format(type(data)))\n",
        "\n",
        "    self.data = data\n",
        "    self.grad = None\n",
        "    self.creator = None\n",
        "    self.generation = 0 # 세대 수를 기록하는 변수 추가\n",
        "\n",
        "  def set_creator(self, func):\n",
        "    self.creator = func\n",
        "    self.generation = func.generation + 1 # 세대를 기록(부모 세대 + 1)\n",
        "\n",
        "  def backward(self):\n",
        "    if self.grad is None:\n",
        "      self.grad = np.ones_like(self.data)\n",
        "\n",
        "    funcs = []\n",
        "    seen_set = set()\n",
        "\n",
        "    def add_func(f):\n",
        "      if f not in seen_set:     # 같은 함수가 중복 추가 되는 것을 방지\n",
        "                                # -> 두 elements가 같은 creator를 가지는 경우!\n",
        "        funcs.append(f)\n",
        "        seen_set.add(f)         \n",
        "        funcs.sort(key=lambda x: x.generation)\n",
        "\n",
        "    add_func(self.creator)\n",
        "     \n",
        "    while funcs :              \n",
        "      f = funcs.pop()          \n",
        "      gys = [output().grad for output in f.outputs] # output()(약한참조)의 grad 가져옴\n",
        "      gxs = f.backward(*gys)                        # gxs를 구함\n",
        "      if not isinstance(gxs, tuple):\n",
        "        gxs = (gxs, )\n",
        "\n",
        "      for x, gx in zip(f.inputs, gxs):            # 구한 역전파를 각 x.grad에 저장\n",
        "        if x.grad is None:                        # 같은 변수일 경우에는 덮어쓰지 말고 더해주자!\n",
        "          x.grad = gx\n",
        "        else:\n",
        "          x.grad = x.grad + gx\n",
        "\n",
        "        if x.creator is not None:                 # 계속해서 역전파 수행\n",
        "          add_func(x.creator)                     # x.creator 추가\n",
        "\n",
        "def as_array(x):\n",
        "  if np.isscalar(x):\n",
        "    # x가 np.float64 같은 scalar 타입인지 확인(일반 float도 확인됨)\n",
        "    return np.array(x)\n",
        "  return x\n",
        "\n",
        "class Function:\n",
        "  def __call__(self, *inputs):\n",
        "    xs = [x.data for x in inputs]\n",
        "    ys = self.forward(*xs) # 언팩\n",
        "    if not isinstance(ys, tuple): # tuple 형태가 아닐 경우 추가 지원\n",
        "      ys = (ys,)\n",
        "    outputs = [Variable(as_array(y)) for y in ys]\n",
        "    self.generation = max([x.generation for x in inputs])\n",
        "\n",
        "    for output in outputs:\n",
        "      output.set_creator(self) \n",
        "    \n",
        "    self.inputs = inputs\n",
        "    self.outputs= [weakref.ref(output) for output in outputs] # self.outputs가 약한 참조로 가르키도록 변경\n",
        "    return outputs if len(outputs) > 1 else outputs[0]\n",
        "\n",
        "  def forward(self, x):\n",
        "    raise NotImplementedError()\n",
        "\n",
        "  def backward(self, gy):\n",
        "    raise NotImplementedError()\n",
        "\n",
        "def as_array(x):\n",
        "  if np.isscalar(x):\n",
        "    # x가 np.float64 같은 scalar 타입인지 확인(일반 float도 확인됨)\n",
        "    return np.array(x)\n",
        "  return x\n",
        "\n",
        "class Add(Function):\n",
        "  def forward(self, x0, x1):\n",
        "    y = x0 + x1\n",
        "    return y\n",
        "\n",
        "  def backward(self, gy):\n",
        "    '''\n",
        "      backward 부분 추가\n",
        "    '''\n",
        "    return gy, gy\n",
        "\n",
        "def add(x0, x1):\n",
        "  return Add()(x0, x1)\n",
        "\n",
        "class Square(Function):\n",
        "  def forward(self, x):\n",
        "    y = x ** 2\n",
        "    return y\n",
        "\n",
        "  def backward(self, gy):\n",
        "    x = self.inputs[0].data # Function 함수에서 inputs (튜플)로 받기 때문에 input-> inputs[0]으로 바꿔줌\n",
        "    gx = 2 * x * gy\n",
        "    return gx\n",
        "\n",
        "def square(x):\n",
        "  return Square()(x)\n",
        "\n",
        "# example\n",
        "x0 = Variable(np.array(1.0))\n",
        "x1 = Variable(np.array(1.0))\n",
        "t = add(x0, x1)\n",
        "y = add(x0, t)\n",
        "y.backward()\n",
        "\n",
        "print(y.grad, t.grad)\n",
        "print(x0.grad, x1.grad)\n",
        "'''\n",
        "  많은 경우에서, 구하고 싶은 미분값은 말단 변수(leaf 말하는듯?)뿐 일 때가 대부분 이다.\n",
        "  앞의 예에서 처럼 y와 t 같은 중간 변수의 미분 값은 필요하지 않음.\n",
        "  그래서 중간 변수에 대해서는 미분 값을 제거하는 모드를 추가!\n",
        "'''"
      ],
      "execution_count": 10,
      "outputs": [
        {
          "output_type": "stream",
          "name": "stdout",
          "text": [
            "1.0 1.0\n",
            "2.0 1.0\n"
          ]
        },
        {
          "output_type": "execute_result",
          "data": {
            "application/vnd.google.colaboratory.intrinsic+json": {
              "type": "string"
            },
            "text/plain": [
              "'\\n  많은 경우에서, 구하고 싶은 미분값은 말단 변수(leaf 말하는듯?)뿐 일 때가 대부분 이다.\\n  앞의 예에서 처럼 y와 t 같은 중간 변수의 미분 값은 필요하지 않음.\\n  그래서 중간 변수에 대해서는 미분 값을 제거하는 모드를 추가!\\n'"
            ]
          },
          "metadata": {},
          "execution_count": 10
        }
      ]
    },
    {
      "cell_type": "code",
      "metadata": {
        "id": "CcnWlQ67jYig"
      },
      "source": [
        "class Variable:\n",
        "  '''\n",
        "  중간 변수에 대해서는 미분값을 제거하는 모드를 추가\n",
        "  '''\n",
        "  def __init__(self, data):\n",
        "    if data is not None:\n",
        "      if not isinstance(data, np.ndarray):\n",
        "        raise TypeError('{}은(는) 지원하지 않습니다.'.format(type(data)))\n",
        "\n",
        "    self.data = data\n",
        "    self.grad = None\n",
        "    self.creator = None\n",
        "    self.generation = 0 # 세대 수를 기록하는 변수 추가\n",
        "\n",
        "  def set_creator(self, func):\n",
        "    self.creator = func\n",
        "    self.generation = func.generation + 1 # 세대를 기록(부모 세대 + 1)\n",
        "\n",
        "  def backward(self, retain_grad=False):\n",
        "    if self.grad is None:\n",
        "      self.grad = np.ones_like(self.data)\n",
        "\n",
        "    funcs = []\n",
        "    seen_set = set()\n",
        "\n",
        "    def add_func(f):\n",
        "      if f not in seen_set:     # 같은 함수가 중복 추가 되는 것을 방지\n",
        "                                # -> 두 elements가 같은 creator를 가지는 경우!\n",
        "        funcs.append(f)\n",
        "        seen_set.add(f)         \n",
        "        funcs.sort(key=lambda x: x.generation)\n",
        "\n",
        "    add_func(self.creator)\n",
        "     \n",
        "    while funcs :              \n",
        "      f = funcs.pop()          \n",
        "      gys = [output().grad for output in f.outputs] # output()(약한참조)의 grad 가져옴\n",
        "      gxs = f.backward(*gys)                        # gxs를 구함\n",
        "      if not isinstance(gxs, tuple):\n",
        "        gxs = (gxs, )\n",
        "\n",
        "      for x, gx in zip(f.inputs, gxs):            # 구한 역전파를 각 x.grad에 저장\n",
        "        if x.grad is None:                        # 같은 변수일 경우에는 덮어쓰지 말고 더해주자!\n",
        "          x.grad = gx\n",
        "        else:\n",
        "          x.grad = x.grad + gx\n",
        "\n",
        "        if x.creator is not None:                 # 계속해서 역전파 수행\n",
        "          add_func(x.creator)                     # x.creator 추가\n",
        "\n",
        "      if not retain_grad: # retain_grad가 false 이면 중간 변수의 미분값을 모두 None으로 설정\n",
        "        for y in f.outputs:\n",
        "          y().grad = None # y는 약한 참조(weakref)\n",
        "\n",
        "def as_array(x):\n",
        "  if np.isscalar(x):\n",
        "    # x가 np.float64 같은 scalar 타입인지 확인(일반 float도 확인됨)\n",
        "    return np.array(x)\n",
        "  return x"
      ],
      "execution_count": 11,
      "outputs": []
    },
    {
      "cell_type": "code",
      "metadata": {
        "colab": {
          "base_uri": "https://localhost:8080/"
        },
        "id": "WfACxq2iljSZ",
        "outputId": "9bb48706-6f42-4220-9764-62af93addd52"
      },
      "source": [
        "# example\n",
        "x0 = Variable(np.array(1.0))\n",
        "x1 = Variable(np.array(1.0))\n",
        "t = add(x0, x1)\n",
        "y = add(x0, t)\n",
        "y.backward()\n",
        "\n",
        "print(y.grad, t.grad)   # None None\n",
        "print(x0.grad, x1.grad) # 2.0 1.0"
      ],
      "execution_count": 8,
      "outputs": [
        {
          "output_type": "stream",
          "name": "stdout",
          "text": [
            "None None\n",
            "2.0 1.0\n"
          ]
        }
      ]
    },
    {
      "cell_type": "markdown",
      "metadata": {
        "id": "vZmOPpFimWRO"
      },
      "source": [
        "##18.2 Function 클래스 복습\n",
        "-> 역전파가 필요없는 모드(inference) - 즉, 역전파를 위해 저장해야할 input이 필요 없는 모드도 있다!"
      ]
    },
    {
      "cell_type": "code",
      "metadata": {
        "id": "MvJOGKiulj4X"
      },
      "source": [
        "class Config:\n",
        "  '''\n",
        "    enable_backprop : 역전파가 가능한지 여부를 물음\n",
        "    config 데이터는 한 곳에만 존재하는 것이 좋음.\n",
        "    Config 클래스는 인스턴스화 하지 않고 '클래스' 상태로 이용!\n",
        "    왜냐? 인스턴스는 여러 개 생성할 수 있지만, 클래스는 항상 하나만 존재하기 때문!\n",
        "  '''\n",
        "  enable_backprop = True"
      ],
      "execution_count": 14,
      "outputs": []
    },
    {
      "cell_type": "code",
      "metadata": {
        "id": "NAo0FSlqnU-K"
      },
      "source": [
        "class Function:\n",
        "  def __call__(self, *inputs):\n",
        "    xs = [x.data for x in inputs]\n",
        "    ys = self.forward(*xs) # 언팩\n",
        "    if not isinstance(ys, tuple): # tuple 형태가 아닐 경우 추가 지원\n",
        "      ys = (ys,)\n",
        "    outputs = [Variable(as_array(y)) for y in ys]\n",
        "\n",
        "    if Config.enable_backprop: # 클래스 상태의 enable_backprop = True 일때만 역전파 코드 실행\n",
        "      self.generation = max([x.generation for x in inputs]) # 세대 설정\n",
        "      for output in outputs:\n",
        "        output.set_creator(self)   # 연결 설정\n",
        "      self.inputs = inputs\n",
        "      self.outputs= [weakref.ref(output) for output in outputs] \n",
        "    \n",
        "    return outputs if len(outputs) > 1 else outputs[0]\n",
        "\n",
        "  def forward(self, x):\n",
        "    raise NotImplementedError()\n",
        "\n",
        "  def backward(self, gy):\n",
        "    raise NotImplementedError()\n"
      ],
      "execution_count": 15,
      "outputs": []
    },
    {
      "cell_type": "markdown",
      "metadata": {
        "id": "SrNERfnZpBJ-"
      },
      "source": [
        "##18.4 모드 전환"
      ]
    },
    {
      "cell_type": "code",
      "metadata": {
        "id": "qsDAwV8zoaHZ"
      },
      "source": [
        "Config.enable_backprop = True\n",
        "x = Variable(np.ones((100,100,100)))\n",
        "y = square(square(square(x)))\n",
        "y.backward()\n",
        "\n",
        "Config.enable_backprop = False\n",
        "x = Variable(np.ones((100,100,100)))\n",
        "y = square(square(square(x)))"
      ],
      "execution_count": 19,
      "outputs": []
    },
    {
      "cell_type": "markdown",
      "metadata": {
        "id": "WkONRF6jo6ij"
      },
      "source": [
        "##18.3 with 문을 활용한 모드 전환\n",
        "with문과 contextlib 모듈을 사용해서 구현!"
      ]
    },
    {
      "cell_type": "code",
      "metadata": {
        "colab": {
          "base_uri": "https://localhost:8080/"
        },
        "id": "1LICkXtdo2By",
        "outputId": "93f8b2cb-8ff8-490d-deaa-86d2b463dc35"
      },
      "source": [
        "import contextlib\n",
        "\n",
        "@contextlib.contextmanager # 데코레이터 -> context를 판단하는 함수가 만들어짐\n",
        "def config_test():\n",
        "  print('start') # 전처리\n",
        "  try:\n",
        "    yield # yield 전에 전처리로직, 후에 후처리로직\n",
        "  finally:\n",
        "    print('done') # 후처리\n",
        "\n",
        "with config_test():\n",
        "  print('process...')"
      ],
      "execution_count": 20,
      "outputs": [
        {
          "output_type": "stream",
          "name": "stdout",
          "text": [
            "start\n",
            "process...\n",
            "done\n"
          ]
        }
      ]
    },
    {
      "cell_type": "code",
      "metadata": {
        "id": "9wqKM4v7opin"
      },
      "source": [
        "import contextlib\n",
        "\n",
        "@contextlib.contextmanager\n",
        "def using_config(name, value):\n",
        "  old_value = getattr(Config, name) # Config의 'name'이름을 가진 속성을 가르킴\n",
        "  setattr(Config, name, value) # 내가 원하는 value값으로 Config안의 name의 속성을 설정\n",
        "  try:\n",
        "    yield\n",
        "  finally:\n",
        "    setattr(Config, name, old_value) # 원래의 old value로 설정"
      ],
      "execution_count": 21,
      "outputs": []
    },
    {
      "cell_type": "code",
      "metadata": {
        "id": "29EkPxs-q0_R"
      },
      "source": [
        "with using_config('enable_backprop', False):\n",
        "  '''\n",
        "    Config의 enable_backprop이 False로 설정 되었으므로 -> 순전파만 실행\n",
        "  '''\n",
        "  x = Variable(np.array(2.0))\n",
        "  y = square(x)"
      ],
      "execution_count": 23,
      "outputs": []
    },
    {
      "cell_type": "code",
      "metadata": {
        "id": "rePIUCSIq-dw"
      },
      "source": [
        "def no_grad():\n",
        "  '''\n",
        "    단순히 using_config('enable_backprop', False) 코드를 호출해줌\n",
        "  '''\n",
        "  return using_config('enable_backprop', False)\n",
        "\n",
        "with no_grad():\n",
        "  x = Variable(np.array(2.0))\n",
        "  y = square(x)"
      ],
      "execution_count": 24,
      "outputs": []
    },
    {
      "cell_type": "code",
      "metadata": {
        "id": "9qu3mjXxrYRE"
      },
      "source": [
        ""
      ],
      "execution_count": null,
      "outputs": []
    }
  ]
}