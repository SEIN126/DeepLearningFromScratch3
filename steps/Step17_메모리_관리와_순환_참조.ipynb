{
  "nbformat": 4,
  "nbformat_minor": 0,
  "metadata": {
    "colab": {
      "name": "Step17_메모리_관리와_순환_참조.ipynb",
      "provenance": [],
      "collapsed_sections": []
    },
    "kernelspec": {
      "name": "python3",
      "display_name": "Python 3"
    },
    "language_info": {
      "name": "python"
    }
  },
  "cells": [
    {
      "cell_type": "markdown",
      "metadata": {
        "id": "g4GBaZ03U-L7"
      },
      "source": [
        "#Step17 메모리 관리와 순환 참조\n",
        "## 17.1 메모리 관리\n",
        "\n",
        "파이썬에서 메모리를 관리는 두 가지 방식으로 진행된다.\n",
        "1. 참조(reference)\n",
        "2. 객체 회수 (Garbage Collection - GC)\n",
        "\n",
        "- 참조 방식은 기본적으로 어떤 인스턴스가 참조(대입, 전달, 어떤 객체에 추가) 될 때 참조 카운트가 올라가는 방식이고, 참조가 풀릴 때 참조 카운트가 내려가는 방식이다.\n",
        "- 하지만 이는 순환 참조 방식을 해결하지 못하는데, 이를 해결하기 위해 나온 것이 GC방식이다.\n",
        "\n",
        "- GC는 참조 카운트와 달리 메모리가 부족해지는 시점에 파이썬 인터프리터에 의해 자동으로 호출된다.\n",
        "- 명시적으로도 호줄 될 수 있는데, gc 모듈을 임포트해서 gc.collect()를 실행 하면 된다.\n",
        "- GC는 순환참조를 올바르게 처리한다. 하지만 메모리 해제를 GC에 미루다 보면 프로그램의 전체 메모리 사용량이 (순환 참조가 없을 때와 비교해) 커지는 원인이 된다.\n",
        "- 그래서 애초에 순환 참조를 만들지 않는 것이 중요하다.\n",
        "- 현재 Variable 구조의 구현에는 순환 참조 되는 부분이 존재하는데, 이를 파이썬 모듈인 weakref로 해결해보자. \n"
      ]
    },
    {
      "cell_type": "markdown",
      "metadata": {
        "id": "b85JieW0ch2w"
      },
      "source": [
        "## 17.4 weakref 모듈\n",
        "\n",
        "- 파이썬에서는 weakref.ref 함수를 사용하여 약한 참조(weak reference)를 만들 수 있다.\n",
        "- 약한 참조란 다른 객체를 참조하되 참조 카운트는 증가시키지 않는 기능이다."
      ]
    },
    {
      "cell_type": "code",
      "metadata": {
        "id": "qCXeCI1dUlIL"
      },
      "source": [
        "import weakref\n",
        "import numpy as np\n",
        "\n",
        "a = np.array([1, 2, 3])\n",
        "b = weakref.ref(a)"
      ],
      "execution_count": 1,
      "outputs": []
    },
    {
      "cell_type": "code",
      "metadata": {
        "colab": {
          "base_uri": "https://localhost:8080/"
        },
        "id": "7AMddPYfc6FW",
        "outputId": "33c3a874-c7e5-430d-8f05-0e99c19827c7"
      },
      "source": [
        "b # <weakref at 0x7fa533e06e90; to 'numpy.ndarray' at 0x7fa5335a9cb0>"
      ],
      "execution_count": 2,
      "outputs": [
        {
          "output_type": "execute_result",
          "data": {
            "text/plain": [
              "<weakref at 0x7fa533e06e90; to 'numpy.ndarray' at 0x7fa5335a9cb0>"
            ]
          },
          "metadata": {},
          "execution_count": 2
        }
      ]
    },
    {
      "cell_type": "code",
      "metadata": {
        "colab": {
          "base_uri": "https://localhost:8080/"
        },
        "id": "HZuFicjSc6eN",
        "outputId": "17a650d5-4136-4356-da3d-43f949f57076"
      },
      "source": [
        "# 참조된 데이터에 접근하는 법\n",
        "b() # array([1, 2, 3])"
      ],
      "execution_count": 3,
      "outputs": [
        {
          "output_type": "execute_result",
          "data": {
            "text/plain": [
              "array([1, 2, 3])"
            ]
          },
          "metadata": {},
          "execution_count": 3
        }
      ]
    },
    {
      "cell_type": "code",
      "metadata": {
        "colab": {
          "base_uri": "https://localhost:8080/"
        },
        "id": "wrGqJXR-c7yl",
        "outputId": "45e59eb9-c1af-4e84-e425-ff0aeb4c4e70"
      },
      "source": [
        "a = None\n",
        "b # <weakref at 0x7fa533e06e90; to 'numpy.ndarray' at 0x7fa5335a9cb0>\n",
        "# 코랩의 파이썬 인터프리터에서는 b가 여전히 유효한 참조를 유지하는 것으로 보임.\n",
        "# 원래는 <weakref at 0x7fa533e06e90; 'dead'>가 나와야한다."
      ],
      "execution_count": 5,
      "outputs": [
        {
          "output_type": "execute_result",
          "data": {
            "text/plain": [
              "<weakref at 0x7fa533e06e90; to 'numpy.ndarray' at 0x7fa5335a9cb0>"
            ]
          },
          "metadata": {},
          "execution_count": 5
        }
      ]
    },
    {
      "cell_type": "code",
      "metadata": {
        "id": "YgcZDVYVdC7-"
      },
      "source": [
        "class Variable():\n",
        "  def __init__(self, data):\n",
        "    if data is not None:\n",
        "      if not isinstance(data, np.ndarray):\n",
        "        raise TypeError('{}은(는) 지원하지 않습니다.'.format(type(data)))\n",
        "\n",
        "    self.data = data\n",
        "    self.grad = None\n",
        "    self.creator = None\n",
        "    self.generation = 0 # 세대 수를 기록하는 변수 추가\n",
        "\n",
        "  def set_creator(self, func):\n",
        "    self.creator = func\n",
        "    self.generation = func.generation + 1 # 세대를 기록(부모 세대 + 1)\n",
        "\n",
        "  def backward(self):\n",
        "    if self.grad is None:\n",
        "      self.grad = np.ones_like(self.data)\n",
        "\n",
        "    funcs = []\n",
        "    seen_set = set()\n",
        "\n",
        "    def add_func(f):\n",
        "      if f not in seen_set:     # 같은 함수가 중복 추가 되는 것을 방지\n",
        "                                # -> 두 elements가 같은 creator를 가지는 경우!\n",
        "        funcs.append(f)\n",
        "        seen_set.add(f)         \n",
        "        funcs.sort(key=lambda x: x.generation)\n",
        "\n",
        "    add_func(self.creator)\n",
        "     \n",
        "    while funcs :              \n",
        "      f = funcs.pop()          \n",
        "      gys = [output().grad for output in f.outputs] # output()(약한참조)의 grad 가져옴\n",
        "      gxs = f.backward(*gys)                        # gxs를 구함\n",
        "      if not isinstance(gxs, tuple):\n",
        "        gxs = (gxs, )\n",
        "\n",
        "      for x, gx in zip(f.inputs, gxs):            # 구한 역전파를 각 x.grad에 저장\n",
        "        if x.grad is None:                        # 같은 변수일 경우에는 덮어쓰지 말고 더해주자!\n",
        "          x.grad = gx\n",
        "        else:\n",
        "          x.grad = x.grad + gx\n",
        "\n",
        "        if x.creator is not None:                 # 계속해서 역전파 수행\n",
        "          add_func(x.creator)                     # x.creator 추가\n",
        "\n",
        "def as_array(x):\n",
        "  if np.isscalar(x):\n",
        "    # x가 np.float64 같은 scalar 타입인지 확인(일반 float도 확인됨)\n",
        "    return np.array(x)\n",
        "  return x\n",
        "\n",
        "class Function:\n",
        "  def __call__(self, *inputs):\n",
        "    xs = [x.data for x in inputs]\n",
        "    ys = self.forward(*xs) # 언팩\n",
        "    if not isinstance(ys, tuple): # tuple 형태가 아닐 경우 추가 지원\n",
        "      ys = (ys,)\n",
        "    outputs = [Variable(as_array(y)) for y in ys]\n",
        "    self.generation = max([x.generation for x in inputs])\n",
        "\n",
        "    for output in outputs:\n",
        "      output.set_creator(self) \n",
        "    \n",
        "    self.inputs = inputs\n",
        "    self.outputs= [weakref.ref(output) for output in outputs] # self.outputs가 약한 참조로 가르키도록 변경\n",
        "    return outputs if len(outputs) > 1 else outputs[0]\n",
        "\n",
        "  def forward(self, x):\n",
        "    raise NotImplementedError()\n",
        "\n",
        "  def backward(self, gy):\n",
        "    raise NotImplementedError()\n",
        "\n",
        "def as_array(x):\n",
        "  if np.isscalar(x):\n",
        "    # x가 np.float64 같은 scalar 타입인지 확인(일반 float도 확인됨)\n",
        "    return np.array(x)\n",
        "  return x\n",
        "\n",
        "class Add(Function):\n",
        "  def forward(self, x0, x1):\n",
        "    y = x0 + x1\n",
        "    return y\n",
        "\n",
        "  def backward(self, gy):\n",
        "    '''\n",
        "      backward 부분 추가\n",
        "    '''\n",
        "    return gy, gy\n",
        "\n",
        "def add(x0, x1):\n",
        "  return Add()(x0, x1)\n",
        "\n",
        "class Square(Function):\n",
        "  def forward(self, x):\n",
        "    y = x ** 2\n",
        "    return y\n",
        "\n",
        "  def backward(self, gy):\n",
        "    x = self.inputs[0].data # Function 함수에서 inputs (튜플)로 받기 때문에 input-> inputs[0]으로 바꿔줌\n",
        "    gx = 2 * x * gy\n",
        "    return gx\n",
        "\n",
        "def square(x):\n",
        "  return Square()(x)"
      ],
      "execution_count": 6,
      "outputs": []
    },
    {
      "cell_type": "code",
      "metadata": {
        "id": "OY4FBhyeeU6d"
      },
      "source": [
        "for i in range(10):\n",
        "  '''\n",
        "    for문이 반복될 때 마다, x와 y는 이전의 메모리를 성공적으로 덮어씀.\n",
        "    순환 참조가 발생하지만, 이미 약한 참조를 사용하고 있으므로 참조 카운트는 0이 됨\n",
        "    이 시점에 계산 그래프에 사용된 메모리는 바로 삭제!\n",
        "\n",
        "  ''' \n",
        "  x = Variable(np.random.randn(10000)) # 거대한 데이터\n",
        "  y = square(square(square(x))) # 복잡한 계산 수행\n"
      ],
      "execution_count": 7,
      "outputs": []
    }
  ]
}