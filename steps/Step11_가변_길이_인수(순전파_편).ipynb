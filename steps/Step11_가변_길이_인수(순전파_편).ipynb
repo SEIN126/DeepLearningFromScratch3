{
  "nbformat": 4,
  "nbformat_minor": 0,
  "metadata": {
    "colab": {
      "name": "Step11_가변_길이_인수(순전파_편).ipynb",
      "provenance": []
    },
    "kernelspec": {
      "name": "python3",
      "display_name": "Python 3"
    },
    "language_info": {
      "name": "python"
    }
  },
  "cells": [
    {
      "cell_type": "markdown",
      "metadata": {
        "id": "-AQJlcTc6Wfh"
      },
      "source": [
        "# Step 11 가변 길이 인수(순전파 편)\n",
        "## 11.1 Function 클래스 추정"
      ]
    },
    {
      "cell_type": "code",
      "metadata": {
        "id": "O4ZXHd1V5-nl"
      },
      "source": [
        "import numpy as np\n",
        "\n",
        "class Variable:\n",
        "  def __init__(self, data):\n",
        "    self.data = data\n",
        "    self.grad = None\n",
        "    self.creator = None\n",
        "  \n",
        "  def set_creator(self, func):\n",
        "    self.creator = func\n",
        "\n",
        "  def backward(self):\n",
        "    funcs = [self.creator]     \n",
        "    while funcs :              \n",
        "      f = funcs.pop()          \n",
        "      x, y = f.input, f.output \n",
        "      x.grad = f.backward(y.grad)\n",
        "\n",
        "      if x.creator is not None:\n",
        "        funcs.append(x.creator) "
      ],
      "execution_count": 1,
      "outputs": []
    },
    {
      "cell_type": "code",
      "metadata": {
        "id": "v_BRpxCi7HiB"
      },
      "source": [
        "def as_array(x):\n",
        "  if np.isscalar(x):\n",
        "    # x가 np.float64 같은 scalar 타입인지 확인(일반 float도 확인됨)\n",
        "    return np.array(x)\n",
        "  return x\n",
        "\n",
        "class Function:\n",
        "  '''\n",
        "    __call__ 에서 인수로 이제 list나 tuple 등의 가변 길이 인수를 받는다.\n",
        "    받은 입력에 대해서 각각의 인자에 forward를 수행하고, set_creator를 한다.\n",
        "  '''\n",
        "  def __call__(self, inputs):\n",
        "    xs = [x.data for x in inputs]\n",
        "    ys = self.forward(xs)\n",
        "    outputs = [Variable(as_array(y)) for y in ys]\n",
        "    \n",
        "    for output in outputs:\n",
        "      output.set_creator(self) \n",
        "    \n",
        "    self.input = input\n",
        "    self.output= output \n",
        "    return outputs\n",
        "\n",
        "  def forward(self, x):\n",
        "    raise NotImplementedError()\n",
        "\n",
        "  def backward(self, gy):\n",
        "    raise NotImplementedError()"
      ],
      "execution_count": 8,
      "outputs": []
    },
    {
      "cell_type": "code",
      "metadata": {
        "id": "SxFfsBlL7XZr"
      },
      "source": [
        "class Add(Function):\n",
        "  def forward(self, xs):\n",
        "    x0, x1 = xs\n",
        "    y = x0 + x1\n",
        "    return (y,) # tuple 형태로 반환"
      ],
      "execution_count": 10,
      "outputs": []
    },
    {
      "cell_type": "code",
      "metadata": {
        "colab": {
          "base_uri": "https://localhost:8080/"
        },
        "id": "Klm_p2oe7vNC",
        "outputId": "198b987c-b360-432f-8cbd-91be34ff8c76"
      },
      "source": [
        "xs = [Variable(np.array(2)), Variable(np.array(3))] # 리스트 형태로 인수를 받아봄.\n",
        "f = Add()\n",
        "ys = f(xs)\n",
        "y = ys[0]\n",
        "print(y.data)"
      ],
      "execution_count": 11,
      "outputs": [
        {
          "output_type": "stream",
          "name": "stdout",
          "text": [
            "5\n"
          ]
        }
      ]
    },
    {
      "cell_type": "code",
      "metadata": {
        "id": "zDhTCKYh77N7"
      },
      "source": [
        ""
      ],
      "execution_count": null,
      "outputs": []
    }
  ]
}