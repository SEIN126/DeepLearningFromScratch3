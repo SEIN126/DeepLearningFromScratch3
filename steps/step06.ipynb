{
  "nbformat": 4,
  "nbformat_minor": 0,
  "metadata": {
    "colab": {
      "name": "step06.ipynb",
      "provenance": []
    },
    "kernelspec": {
      "name": "python3",
      "display_name": "Python 3"
    },
    "language_info": {
      "name": "python"
    }
  },
  "cells": [
    {
      "cell_type": "markdown",
      "metadata": {
        "id": "ve3_CkiklLoU"
      },
      "source": [
        "#Step6 수동 역전파"
      ]
    },
    {
      "cell_type": "markdown",
      "metadata": {
        "id": "nLl8P6MhlSXi"
      },
      "source": [
        "## 6.1 Variable 클래스 추가 구현"
      ]
    },
    {
      "cell_type": "code",
      "metadata": {
        "id": "uCMFGiZFiEXD"
      },
      "source": [
        "import numpy as np\n",
        "\n",
        "class Variable:\n",
        "  '''\n",
        "    - gradient까지 Variable에 저장\n",
        "  '''\n",
        "  def __init__(self, data):\n",
        "    self.data = data\n",
        "    self.grad = None"
      ],
      "execution_count": 5,
      "outputs": []
    },
    {
      "cell_type": "markdown",
      "metadata": {
        "id": "28fHmyS1lU_V"
      },
      "source": [
        "##6.2 Function 클래스 추가 구현"
      ]
    },
    {
      "cell_type": "code",
      "metadata": {
        "id": "dhKT9D5riKAC"
      },
      "source": [
        "class Function:\n",
        "  '''\n",
        "    - 미분을 계산하는 역전파(backward 메서드)\n",
        "    - forward 메서드 호출 시 건네받은 variable 인스턴스 유지\n",
        "  '''\n",
        "  def __call__(self, input):\n",
        "    x = input.data\n",
        "    y = self.forward(x)  # 구체적인 계산은 forward method에서 함.\n",
        "    output = Variable(y)\n",
        "    self.input = input\n",
        "    return output\n",
        "\n",
        "  def forward(self, x):\n",
        "    raise NotImplementedError()\n",
        "\n",
        "  def backward(self, gy):\n",
        "    raise NotImplementedError()"
      ],
      "execution_count": 8,
      "outputs": []
    },
    {
      "cell_type": "markdown",
      "metadata": {
        "id": "p2BdqNhMlYd9"
      },
      "source": [
        "## 6.3 Square와 Exp 클래스 추가 구현"
      ]
    },
    {
      "cell_type": "code",
      "metadata": {
        "id": "vhaLTNDsieEk"
      },
      "source": [
        "class Square(Function):\n",
        "  '''\n",
        "    - backward 까지 구현\n",
        "  '''\n",
        "  def forward(self, x):\n",
        "    y = x ** 2\n",
        "    return y\n",
        "\n",
        "  def backward(self, gy):\n",
        "    x = self.input.data\n",
        "    gx = 2 * x * gy\n",
        "    return gx\n",
        "\n",
        "class Exp(Function):\n",
        "  def forward(self, x):\n",
        "    y = np.exp(x)\n",
        "    return y\n",
        "\n",
        "  def backward(self, gy):\n",
        "    x = self.input.data\n",
        "    gx = np.exp(x) * gy\n",
        "    return gx"
      ],
      "execution_count": 9,
      "outputs": []
    },
    {
      "cell_type": "markdown",
      "metadata": {
        "id": "bOwsoMoblcg_"
      },
      "source": [
        "## 6.4 역전파 구현"
      ]
    },
    {
      "cell_type": "code",
      "metadata": {
        "id": "KYQ8Wab8j75N"
      },
      "source": [
        "A = Square()\n",
        "B = Exp()\n",
        "C = Square()\n",
        "\n",
        "x = Variable(np.array(0.5))\n",
        "a = A(x)\n",
        "b = B(a)\n",
        "y = C(b)"
      ],
      "execution_count": 11,
      "outputs": []
    },
    {
      "cell_type": "code",
      "metadata": {
        "colab": {
          "base_uri": "https://localhost:8080/"
        },
        "id": "YF39CbYOkhst",
        "outputId": "b02624e5-6a16-4cb2-f5ea-e39ef752abd5"
      },
      "source": [
        "# 수동으로 역전파 과정 구현\n",
        "y.grad = 1\n",
        "b.grad = C.backward(y.grad)\n",
        "a.grad = B.backward(b.grad)\n",
        "x.grad = A.backward(a.grad)\n",
        "print(x.grad)"
      ],
      "execution_count": 12,
      "outputs": [
        {
          "output_type": "stream",
          "name": "stdout",
          "text": [
            "3.297442541400256\n"
          ]
        }
      ]
    }
  ]
}