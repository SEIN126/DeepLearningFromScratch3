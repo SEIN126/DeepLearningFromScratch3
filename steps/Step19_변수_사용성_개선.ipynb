{
  "nbformat": 4,
  "nbformat_minor": 0,
  "metadata": {
    "colab": {
      "name": "Step19_변수_사용성_개선.ipynb",
      "provenance": [],
      "collapsed_sections": []
    },
    "kernelspec": {
      "name": "python3",
      "display_name": "Python 3"
    },
    "language_info": {
      "name": "python"
    }
  },
  "cells": [
    {
      "cell_type": "markdown",
      "metadata": {
        "id": "7M8FeccIj2I0"
      },
      "source": [
        "#Step19 변수 사용성 개선\n",
        "## 19.1 변수 이름 지정"
      ]
    },
    {
      "cell_type": "code",
      "metadata": {
        "id": "MHmXqNsIjuAY"
      },
      "source": [
        "# 변수에 이름 붙여주기\n",
        "import numpy as np\n",
        "\n",
        "class Variable:\n",
        "  '''\n",
        "  중간 변수에 대해서는 미분값을 제거하는 모드를 추가\n",
        "  '''\n",
        "  def __init__(self, data, name=None):\n",
        "    if data is not None:\n",
        "      if not isinstance(data, np.ndarray):\n",
        "        raise TypeError('{}은(는) 지원하지 않습니다.'.format(type(data)))\n",
        "\n",
        "    self.data = data\n",
        "    self.name = name # name 추가\n",
        "    self.grad = None\n",
        "    self.creator = None\n",
        "    self.generation = 0 # 세대 수를 기록하는 변수 추가\n",
        "\n",
        "  def set_creator(self, func):\n",
        "    self.creator = func\n",
        "    self.generation = func.generation + 1 # 세대를 기록(부모 세대 + 1)\n",
        "\n",
        "  def backward(self, retain_grad=False):\n",
        "    if self.grad is None:\n",
        "      self.grad = np.ones_like(self.data)\n",
        "\n",
        "    funcs = []\n",
        "    seen_set = set()\n",
        "\n",
        "    def add_func(f):\n",
        "      if f not in seen_set:     # 같은 함수가 중복 추가 되는 것을 방지\n",
        "                                # -> 두 elements가 같은 creator를 가지는 경우!\n",
        "        funcs.append(f)\n",
        "        seen_set.add(f)         \n",
        "        funcs.sort(key=lambda x: x.generation)\n",
        "\n",
        "    add_func(self.creator)\n",
        "     \n",
        "    while funcs :              \n",
        "      f = funcs.pop()          \n",
        "      gys = [output().grad for output in f.outputs] # output()(약한참조)의 grad 가져옴\n",
        "      gxs = f.backward(*gys)                        # gxs를 구함\n",
        "      if not isinstance(gxs, tuple):\n",
        "        gxs = (gxs, )\n",
        "\n",
        "      for x, gx in zip(f.inputs, gxs):            # 구한 역전파를 각 x.grad에 저장\n",
        "        if x.grad is None:                        # 같은 변수일 경우에는 덮어쓰지 말고 더해주자!\n",
        "          x.grad = gx\n",
        "        else:\n",
        "          x.grad = x.grad + gx\n",
        "\n",
        "        if x.creator is not None:                 # 계속해서 역전파 수행\n",
        "          add_func(x.creator)                     # x.creator 추가\n",
        "\n",
        "      if not retain_grad: # retain_grad가 false 이면 중간 변수의 미분값을 모두 None으로 설정\n",
        "        for y in f.outputs:\n",
        "          y().grad = None # y는 약한 참조(weakref)\n",
        "\n",
        "def as_array(x):\n",
        "  if np.isscalar(x):\n",
        "    # x가 np.float64 같은 scalar 타입인지 확인(일반 float도 확인됨)\n",
        "    return np.array(x)\n",
        "  return x"
      ],
      "execution_count": 3,
      "outputs": []
    },
    {
      "cell_type": "markdown",
      "metadata": {
        "id": "Pwho2MpHkUQN"
      },
      "source": [
        "##19.2 ndarray 인스턴스 변수\n",
        "Variable이 마치 데이터인것 처럼 보이게 하자! 왜냐? 사용자 입장에서 중요한것은 Variable안의 '데이터'이기 때문!"
      ]
    },
    {
      "cell_type": "code",
      "metadata": {
        "id": "8XNZbwrEkrg2"
      },
      "source": [
        "class Variable:\n",
        "  '''\n",
        "  중간 변수에 대해서는 미분값을 제거하는 모드를 추가\n",
        "  '''\n",
        "  def __init__(self, data, name=None):\n",
        "    if data is not None:\n",
        "      if not isinstance(data, np.ndarray):\n",
        "        raise TypeError('{}은(는) 지원하지 않습니다.'.format(type(data)))\n",
        "\n",
        "    self.data = data\n",
        "    self.name = name # name 추가\n",
        "    self.grad = None\n",
        "    self.creator = None\n",
        "    self.generation = 0 # 세대 수를 기록하는 변수 추가\n",
        "\n",
        "  def set_creator(self, func):\n",
        "    self.creator = func\n",
        "    self.generation = func.generation + 1 # 세대를 기록(부모 세대 + 1)\n",
        "\n",
        "  def backward(self, retain_grad=False):\n",
        "    if self.grad is None:\n",
        "      self.grad = np.ones_like(self.data)\n",
        "\n",
        "    funcs = []\n",
        "    seen_set = set()\n",
        "\n",
        "    def add_func(f):\n",
        "      if f not in seen_set:     # 같은 함수가 중복 추가 되는 것을 방지\n",
        "                                # -> 두 elements가 같은 creator를 가지는 경우!\n",
        "        funcs.append(f)\n",
        "        seen_set.add(f)         \n",
        "        funcs.sort(key=lambda x: x.generation)\n",
        "\n",
        "    add_func(self.creator)\n",
        "     \n",
        "    while funcs :              \n",
        "      f = funcs.pop()          \n",
        "      gys = [output().grad for output in f.outputs] # output()(약한참조)의 grad 가져옴\n",
        "      gxs = f.backward(*gys)                        # gxs를 구함\n",
        "      if not isinstance(gxs, tuple):\n",
        "        gxs = (gxs, )\n",
        "\n",
        "      for x, gx in zip(f.inputs, gxs):            # 구한 역전파를 각 x.grad에 저장\n",
        "        if x.grad is None:                        # 같은 변수일 경우에는 덮어쓰지 말고 더해주자!\n",
        "          x.grad = gx\n",
        "        else:\n",
        "          x.grad = x.grad + gx\n",
        "\n",
        "        if x.creator is not None:                 # 계속해서 역전파 수행\n",
        "          add_func(x.creator)                     # x.creator 추가\n",
        "\n",
        "      if not retain_grad: # retain_grad가 false 이면 중간 변수의 미분값을 모두 None으로 설정\n",
        "        for y in f.outputs:\n",
        "          y().grad = None # y는 약한 참조(weakref)\n",
        "\n",
        "  # property 덕분에 메서드를 인스턴스 변수처럼 사용할 수 있음\n",
        "  @property\n",
        "  def shape(self):\n",
        "    return self.data.shape\n",
        "\n",
        "\n",
        "def as_array(x):\n",
        "  if np.isscalar(x):\n",
        "    # x가 np.float64 같은 scalar 타입인지 확인(일반 float도 확인됨)\n",
        "    return np.array(x)\n",
        "  return x"
      ],
      "execution_count": 4,
      "outputs": []
    },
    {
      "cell_type": "code",
      "metadata": {
        "colab": {
          "base_uri": "https://localhost:8080/"
        },
        "id": "7eWmUvoalOWG",
        "outputId": "8cf2c693-56c3-44f9-fd61-f389d619486b"
      },
      "source": [
        "x = Variable(np.array([[1, 2, 3], [4, 5, 6]]))\n",
        "print(x.shape) # x.shape() 대신 x.shape로 호출 가능!"
      ],
      "execution_count": 6,
      "outputs": [
        {
          "output_type": "stream",
          "name": "stdout",
          "text": [
            "(2, 3)\n"
          ]
        }
      ]
    },
    {
      "cell_type": "code",
      "metadata": {
        "id": "m_UQ5hXElfb5"
      },
      "source": [
        "class Variable:\n",
        "  '''\n",
        "  중간 변수에 대해서는 미분값을 제거하는 모드를 추가\n",
        "  '''\n",
        "  def __init__(self, data, name=None):\n",
        "    if data is not None:\n",
        "      if not isinstance(data, np.ndarray):\n",
        "        raise TypeError('{}은(는) 지원하지 않습니다.'.format(type(data)))\n",
        "\n",
        "    self.data = data\n",
        "    self.name = name # name 추가\n",
        "    self.grad = None\n",
        "    self.creator = None\n",
        "    self.generation = 0 # 세대 수를 기록하는 변수 추가\n",
        "\n",
        "  def set_creator(self, func):\n",
        "    self.creator = func\n",
        "    self.generation = func.generation + 1 # 세대를 기록(부모 세대 + 1)\n",
        "\n",
        "  def backward(self, retain_grad=False):\n",
        "    if self.grad is None:\n",
        "      self.grad = np.ones_like(self.data)\n",
        "\n",
        "    funcs = []\n",
        "    seen_set = set()\n",
        "\n",
        "    def add_func(f):\n",
        "      if f not in seen_set:     # 같은 함수가 중복 추가 되는 것을 방지\n",
        "                                # -> 두 elements가 같은 creator를 가지는 경우!\n",
        "        funcs.append(f)\n",
        "        seen_set.add(f)         \n",
        "        funcs.sort(key=lambda x: x.generation)\n",
        "\n",
        "    add_func(self.creator)\n",
        "     \n",
        "    while funcs :              \n",
        "      f = funcs.pop()          \n",
        "      gys = [output().grad for output in f.outputs] # output()(약한참조)의 grad 가져옴\n",
        "      gxs = f.backward(*gys)                        # gxs를 구함\n",
        "      if not isinstance(gxs, tuple):\n",
        "        gxs = (gxs, )\n",
        "\n",
        "      for x, gx in zip(f.inputs, gxs):            # 구한 역전파를 각 x.grad에 저장\n",
        "        if x.grad is None:                        # 같은 변수일 경우에는 덮어쓰지 말고 더해주자!\n",
        "          x.grad = gx\n",
        "        else:\n",
        "          x.grad = x.grad + gx\n",
        "\n",
        "        if x.creator is not None:                 # 계속해서 역전파 수행\n",
        "          add_func(x.creator)                     # x.creator 추가\n",
        "\n",
        "      if not retain_grad: # retain_grad가 false 이면 중간 변수의 미분값을 모두 None으로 설정\n",
        "        for y in f.outputs:\n",
        "          y().grad = None # y는 약한 참조(weakref)\n",
        "\n",
        "  # 다른 인스턴스 변수를 추가해 보자.\n",
        "  # property 덕분에 메서드를 인스턴스 변수처럼 사용할 수 있음\n",
        "  @property\n",
        "  def shape(self):\n",
        "    return self.data.shape\n",
        "\n",
        "  @property\n",
        "  def ndim(self):\n",
        "    return self.data.ndim\n",
        "\n",
        "  @property\n",
        "  def size(self):\n",
        "    return self.data.size\n",
        "\n",
        "  @property\n",
        "  def dtype(self):\n",
        "    return self.data.dtype"
      ],
      "execution_count": 7,
      "outputs": []
    },
    {
      "cell_type": "markdown",
      "metadata": {
        "id": "TUlnRKpAl-VO"
      },
      "source": [
        "## 19.3 len 함수와 print 함수\n",
        "ndarray에서 len 함수 -> 첫번째 차원의 원소 "
      ]
    },
    {
      "cell_type": "code",
      "metadata": {
        "colab": {
          "base_uri": "https://localhost:8080/"
        },
        "id": "VllSgiBHmLge",
        "outputId": "c971994a-4c53-4381-a0fe-b49e09ba74d9"
      },
      "source": [
        "# len example\n",
        "x = [1, 2, 3, 4]\n",
        "print(len(x))\n",
        "\n",
        "x = np.array([1, 2, 3, 4])\n",
        "print(len(x))\n",
        "\n",
        "x = np.array([[1, 2, 3], [4, 5, 6]])\n",
        "print(len(x))"
      ],
      "execution_count": 9,
      "outputs": [
        {
          "output_type": "stream",
          "name": "stdout",
          "text": [
            "4\n",
            "4\n",
            "2\n"
          ]
        }
      ]
    },
    {
      "cell_type": "code",
      "metadata": {
        "id": "lOn-87Zembz9"
      },
      "source": [
        "class Variable:\n",
        "  '''\n",
        "  중간 변수에 대해서는 미분값을 제거하는 모드를 추가\n",
        "  '''\n",
        "  def __init__(self, data, name=None):\n",
        "    if data is not None:\n",
        "      if not isinstance(data, np.ndarray):\n",
        "        raise TypeError('{}은(는) 지원하지 않습니다.'.format(type(data)))\n",
        "\n",
        "    self.data = data\n",
        "    self.name = name # name 추가\n",
        "    self.grad = None\n",
        "    self.creator = None\n",
        "    self.generation = 0 # 세대 수를 기록하는 변수 추가\n",
        "\n",
        "  def set_creator(self, func):\n",
        "    self.creator = func\n",
        "    self.generation = func.generation + 1 # 세대를 기록(부모 세대 + 1)\n",
        "\n",
        "  def backward(self, retain_grad=False):\n",
        "    if self.grad is None:\n",
        "      self.grad = np.ones_like(self.data)\n",
        "\n",
        "    funcs = []\n",
        "    seen_set = set()\n",
        "\n",
        "    def add_func(f):\n",
        "      if f not in seen_set:     # 같은 함수가 중복 추가 되는 것을 방지\n",
        "                                # -> 두 elements가 같은 creator를 가지는 경우!\n",
        "        funcs.append(f)\n",
        "        seen_set.add(f)         \n",
        "        funcs.sort(key=lambda x: x.generation)\n",
        "\n",
        "    add_func(self.creator)\n",
        "     \n",
        "    while funcs :              \n",
        "      f = funcs.pop()          \n",
        "      gys = [output().grad for output in f.outputs] # output()(약한참조)의 grad 가져옴\n",
        "      gxs = f.backward(*gys)                        # gxs를 구함\n",
        "      if not isinstance(gxs, tuple):\n",
        "        gxs = (gxs, )\n",
        "\n",
        "      for x, gx in zip(f.inputs, gxs):            # 구한 역전파를 각 x.grad에 저장\n",
        "        if x.grad is None:                        # 같은 변수일 경우에는 덮어쓰지 말고 더해주자!\n",
        "          x.grad = gx\n",
        "        else:\n",
        "          x.grad = x.grad + gx\n",
        "\n",
        "        if x.creator is not None:                 # 계속해서 역전파 수행\n",
        "          add_func(x.creator)                     # x.creator 추가\n",
        "\n",
        "      if not retain_grad: # retain_grad가 false 이면 중간 변수의 미분값을 모두 None으로 설정\n",
        "        for y in f.outputs:\n",
        "          y().grad = None # y는 약한 참조(weakref)\n",
        "\n",
        "  # 다른 인스턴스 변수를 추가해 보자.\n",
        "  # property 덕분에 메서드를 인스턴스 변수처럼 사용할 수 있음\n",
        "  @property\n",
        "  def shape(self):\n",
        "    return self.data.shape\n",
        "\n",
        "  @property\n",
        "  def ndim(self):\n",
        "    return self.data.ndim\n",
        "\n",
        "  @property\n",
        "  def size(self):\n",
        "    return self.data.size\n",
        "\n",
        "  @property\n",
        "  def dtype(self):\n",
        "    return self.data.dtype\n",
        "\n",
        "  # __len__ 구현\n",
        "  def __len__(self):\n",
        "    return len(self.data)"
      ],
      "execution_count": 12,
      "outputs": []
    },
    {
      "cell_type": "code",
      "metadata": {
        "colab": {
          "base_uri": "https://localhost:8080/"
        },
        "id": "QeInZO3zmso1",
        "outputId": "b8dd2e82-1251-4bd9-c50e-8467e5bf561b"
      },
      "source": [
        "x = Variable(np.array([[1, 2, 3], [4, 5, 6]]))\n",
        "print(len(x)) # 굿 잘됨"
      ],
      "execution_count": 13,
      "outputs": [
        {
          "output_type": "stream",
          "name": "stdout",
          "text": [
            "2\n"
          ]
        }
      ]
    },
    {
      "cell_type": "code",
      "metadata": {
        "id": "zv7vpbKcl9vi"
      },
      "source": [
        "class Variable:\n",
        "  '''\n",
        "  중간 변수에 대해서는 미분값을 제거하는 모드를 추가\n",
        "  '''\n",
        "  def __init__(self, data, name=None):\n",
        "    if data is not None:\n",
        "      if not isinstance(data, np.ndarray):\n",
        "        raise TypeError('{}은(는) 지원하지 않습니다.'.format(type(data)))\n",
        "\n",
        "    self.data = data\n",
        "    self.name = name # name 추가\n",
        "    self.grad = None\n",
        "    self.creator = None\n",
        "    self.generation = 0 # 세대 수를 기록하는 변수 추가\n",
        "\n",
        "  def set_creator(self, func):\n",
        "    self.creator = func\n",
        "    self.generation = func.generation + 1 # 세대를 기록(부모 세대 + 1)\n",
        "\n",
        "  def backward(self, retain_grad=False):\n",
        "    if self.grad is None:\n",
        "      self.grad = np.ones_like(self.data)\n",
        "\n",
        "    funcs = []\n",
        "    seen_set = set()\n",
        "\n",
        "    def add_func(f):\n",
        "      if f not in seen_set:     # 같은 함수가 중복 추가 되는 것을 방지\n",
        "                                # -> 두 elements가 같은 creator를 가지는 경우!\n",
        "        funcs.append(f)\n",
        "        seen_set.add(f)         \n",
        "        funcs.sort(key=lambda x: x.generation)\n",
        "\n",
        "    add_func(self.creator)\n",
        "     \n",
        "    while funcs :              \n",
        "      f = funcs.pop()          \n",
        "      gys = [output().grad for output in f.outputs] # output()(약한참조)의 grad 가져옴\n",
        "      gxs = f.backward(*gys)                        # gxs를 구함\n",
        "      if not isinstance(gxs, tuple):\n",
        "        gxs = (gxs, )\n",
        "\n",
        "      for x, gx in zip(f.inputs, gxs):            # 구한 역전파를 각 x.grad에 저장\n",
        "        if x.grad is None:                        # 같은 변수일 경우에는 덮어쓰지 말고 더해주자!\n",
        "          x.grad = gx\n",
        "        else:\n",
        "          x.grad = x.grad + gx\n",
        "\n",
        "        if x.creator is not None:                 # 계속해서 역전파 수행\n",
        "          add_func(x.creator)                     # x.creator 추가\n",
        "\n",
        "      if not retain_grad: # retain_grad가 false 이면 중간 변수의 미분값을 모두 None으로 설정\n",
        "        for y in f.outputs:\n",
        "          y().grad = None # y는 약한 참조(weakref)\n",
        "\n",
        "  # 다른 인스턴스 변수를 추가해 보자.\n",
        "  # property 덕분에 메서드를 인스턴스 변수처럼 사용할 수 있음\n",
        "  @property\n",
        "  def shape(self):\n",
        "    return self.data.shape\n",
        "\n",
        "  @property\n",
        "  def ndim(self):\n",
        "    return self.data.ndim\n",
        "\n",
        "  @property\n",
        "  def size(self):\n",
        "    return self.data.size\n",
        "\n",
        "  @property\n",
        "  def dtype(self):\n",
        "    return self.data.dtype\n",
        "\n",
        "  # __len__ 구현\n",
        "  def __len__(self):\n",
        "    return len(self.data)\n",
        "\n",
        "  # print 함수가 출력해주는 내용을 정의 -> __repr__메서드를 재정의하면됨\n",
        "  def __repr__(self):\n",
        "    if self.data is None:\n",
        "      return 'variable(None)'\n",
        "\n",
        "    p = str(self.data).replace('\\n', '\\n' + ' ' * 9)\n",
        "    return 'variable(' + p + ')'"
      ],
      "execution_count": 15,
      "outputs": []
    },
    {
      "cell_type": "code",
      "metadata": {
        "colab": {
          "base_uri": "https://localhost:8080/"
        },
        "id": "ZrhKBr6mniD2",
        "outputId": "f6cec732-600b-46d6-b49b-01f6b1314f21"
      },
      "source": [
        "x = Variable(np.array([[1, 2, 3], [4, 5, 6]]))\n",
        "print(x) # 굿 잘됨"
      ],
      "execution_count": 16,
      "outputs": [
        {
          "output_type": "stream",
          "name": "stdout",
          "text": [
            "variable([[1 2 3]\n",
            "          [4 5 6]])\n"
          ]
        }
      ]
    }
  ]
}