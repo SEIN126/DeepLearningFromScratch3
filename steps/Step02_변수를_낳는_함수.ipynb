{
  "nbformat": 4,
  "nbformat_minor": 0,
  "metadata": {
    "colab": {
      "name": "step02.ipynb",
      "provenance": [],
      "collapsed_sections": []
    },
    "kernelspec": {
      "name": "python3",
      "display_name": "Python 3"
    },
    "language_info": {
      "name": "python"
    }
  },
  "cells": [
    {
      "cell_type": "markdown",
      "metadata": {
        "id": "2usQaSLaOmo6"
      },
      "source": [
        "**2.2 Function 클래스 구현**"
      ]
    },
    {
      "cell_type": "code",
      "metadata": {
        "colab": {
          "base_uri": "https://localhost:8080/",
          "height": 35
        },
        "id": "_rakmFUJNcwY",
        "outputId": "a8a71840-fed6-4723-9dce-465b928eff21"
      },
      "source": [
        "'''참고\n",
        "__init__ : class 생성자\n",
        "__call__ : class의 instance를 '함수'처럼 사용할 수 있게 해줌\n",
        "'''"
      ],
      "execution_count": 4,
      "outputs": [
        {
          "output_type": "execute_result",
          "data": {
            "application/vnd.google.colaboratory.intrinsic+json": {
              "type": "string"
            },
            "text/plain": [
              "\"참고\\n__init__ : class 생성자\\n__call__ : class의 instance를 '함수'처럼 사용할 수 있게 해줌\\n\""
            ]
          },
          "metadata": {},
          "execution_count": 4
        }
      ]
    },
    {
      "cell_type": "code",
      "metadata": {
        "id": "df7KWqzUPOfB"
      },
      "source": [
        "import numpy as np\n",
        "class Variable:\n",
        "    def __init__(self, data):\n",
        "        self.data = data"
      ],
      "execution_count": 7,
      "outputs": []
    },
    {
      "cell_type": "code",
      "metadata": {
        "id": "aTxOaxk9NiAb"
      },
      "source": [
        "class Function:\n",
        "  def __call__(self, input):\n",
        "    '''\n",
        "    Variable 인스턴스를 입력받아서 Variable 인스턴스를 출력.\n",
        "    Variable 인스턴스의 실제 data는 Variable.data에 있음.\n",
        "    '''\n",
        "    x = input.data\n",
        "    y = x ** 2\n",
        "    output = Variable(y)\n",
        "    return output"
      ],
      "execution_count": 3,
      "outputs": []
    },
    {
      "cell_type": "code",
      "metadata": {
        "colab": {
          "base_uri": "https://localhost:8080/"
        },
        "id": "dqr9AS8lPF20",
        "outputId": "9fb69433-7a73-4ed5-e4b1-0e02ae949875"
      },
      "source": [
        "x = Variable(np.array(10))\n",
        "f = Function()\n",
        "y = f(x)\n",
        "\n",
        "print(type(y)) # <class '__main__.Variable'>\n",
        "print(y.data)  # 100"
      ],
      "execution_count": 8,
      "outputs": [
        {
          "output_type": "stream",
          "name": "stdout",
          "text": [
            "<class '__main__.Variable'>\n",
            "100\n"
          ]
        }
      ]
    },
    {
      "cell_type": "code",
      "metadata": {
        "id": "BY2U3BJBPWUI"
      },
      "source": [
        "class Function:\n",
        "  '''\n",
        "    - 수정 된 Function.\n",
        "    - 공통 된 기능만 가지고 있음\n",
        "    - 구체적인 함수는 Function 클래스를 상속한 클래스에서 구현함.\n",
        "  '''\n",
        "  def __call__(self, input):  \n",
        "    x = input.data\n",
        "    y = self.forward(x) # 구체적인 계산은 forward method에서 함.\n",
        "    output = Variable(y)\n",
        "    return output\n",
        "  \n",
        "  def forward(self, x):\n",
        "    '''\n",
        "    - 예외를 발생시킴.\n",
        "    - 이렇게 해두면 Function 클래스의 forward 메서드를 직접 호출한 사람에게 \n",
        "      '이 메소드는 상속하여 구현해야 한다'는 사실을 알려줄 수 있다.\n",
        "    '''\n",
        "    raise NotImplementedError()"
      ],
      "execution_count": 9,
      "outputs": []
    },
    {
      "cell_type": "code",
      "metadata": {
        "id": "EfwLKib2PCYt"
      },
      "source": [
        "class Square(Function):\n",
        "  '''\n",
        "  - Function을 상속받은 class\n",
        "  - Fucntion을 상속받았기 때문에 __call__ 메서드는 그대로 계승\n",
        "  - forward는 overwrite\n",
        "  '''\n",
        "  def forward(self, x):\n",
        "    return x ** 2"
      ],
      "execution_count": 10,
      "outputs": []
    },
    {
      "cell_type": "code",
      "metadata": {
        "colab": {
          "base_uri": "https://localhost:8080/"
        },
        "id": "lSlDuYyiQymp",
        "outputId": "b6b5548c-bab5-4778-b4cb-1e603a961ff0"
      },
      "source": [
        "x = Variable(np.array(10))\n",
        "f = Square()\n",
        "y = f(x)\n",
        "print(type(y)) # <class '__main__.Variable'>\n",
        "print(y.data)  # 100"
      ],
      "execution_count": 11,
      "outputs": [
        {
          "output_type": "stream",
          "name": "stdout",
          "text": [
            "<class '__main__.Variable'>\n",
            "100\n"
          ]
        }
      ]
    },
    {
      "cell_type": "code",
      "metadata": {
        "id": "hVwj8DtxQ7E7"
      },
      "source": [
        ""
      ],
      "execution_count": null,
      "outputs": []
    }
  ]
}